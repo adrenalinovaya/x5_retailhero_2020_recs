{
 "cells": [
  {
   "cell_type": "markdown",
   "metadata": {},
   "source": [
    "# Пробуем сделать LSTM модель по транзакциям для предсказания следующей транзакции"
   ]
  },
  {
   "cell_type": "code",
   "execution_count": 1,
   "metadata": {
    "ExecuteTime": {
     "end_time": "2020-02-21T05:36:20.562737Z",
     "start_time": "2020-02-21T05:36:20.153520Z"
    }
   },
   "outputs": [],
   "source": [
    "import gc\n",
    "import random\n",
    "import pickle\n",
    "import glob\n",
    "from datetime import datetime\n",
    "\n",
    "import numpy as np\n",
    "import pandas as pd\n",
    "\n",
    "import torch\n",
    "import torch.nn as nn\n",
    "import torch.nn.functional as F\n",
    "import torch.optim as optim\n",
    "from torch.utils.data import Dataset, DataLoader\n",
    "\n",
    "from transaction_dataset import (\n",
    "    TransactionsDataset,\n",
    "    dataloader_collate\n",
    ")\n",
    "from models_lstm import TransactionLSTM\n",
    "from trainers import TransactionTrainer\n",
    "from metrics_losses import (\n",
    "    BCELogitsLoss,\n",
    "    normalized_average_precision\n",
    ")\n",
    "from utils import (\n",
    "    _fix_seeds,\n",
    "    filter_user_item_pairs,\n",
    "    get_user_item_matrix,\n",
    "    blend_product_lists,\n",
    "    plot_loss_metrics\n",
    ")\n",
    "from settings import(\n",
    "    baseline_items,\n",
    "    baseline_popular,\n",
    "    check_clients\n",
    ")\n",
    "\n",
    "import matplotlib.pyplot as plt\n",
    "#plt.style.use('seaborn-poster')\n",
    "\n",
    "pd.set_option('display.max_rows', 100)\n",
    "pd.set_option('display.max_columns', 100)\n",
    "gc.enable()\n",
    "\n",
    "device = torch.device(\"cuda:0\")\n",
    "\n",
    "if torch.cuda.is_available():\n",
    "    from torch.cuda import FloatTensor, LongTensor\n",
    "else:\n",
    "    from torch import FloatTensor, LongTensor\n",
    "\n",
    "%matplotlib inline"
   ]
  },
  {
   "cell_type": "markdown",
   "metadata": {},
   "source": [
    "## Собираем датасет"
   ]
  },
  {
   "cell_type": "code",
   "execution_count": 2,
   "metadata": {
    "ExecuteTime": {
     "end_time": "2020-02-21T05:40:30.741962Z",
     "start_time": "2020-02-21T05:36:23.197687Z"
    },
    "scrolled": true
   },
   "outputs": [
    {
     "name": "stderr",
     "output_type": "stream",
     "text": [
      "309it [00:00, 1492.55it/s]"
     ]
    },
    {
     "name": "stdout",
     "output_type": "stream",
     "text": [
      "../_processed_data/client_tr_history_1.tsv\n"
     ]
    },
    {
     "name": "stderr",
     "output_type": "stream",
     "text": [
      "20000it [00:12, 1607.08it/s]\n",
      "321it [00:00, 1620.43it/s]"
     ]
    },
    {
     "name": "stdout",
     "output_type": "stream",
     "text": [
      "../_processed_data/client_tr_history_10.tsv\n"
     ]
    },
    {
     "name": "stderr",
     "output_type": "stream",
     "text": [
      "20000it [00:12, 1578.03it/s]\n",
      "307it [00:00, 1525.07it/s]"
     ]
    },
    {
     "name": "stdout",
     "output_type": "stream",
     "text": [
      "../_processed_data/client_tr_history_11.tsv\n"
     ]
    },
    {
     "name": "stderr",
     "output_type": "stream",
     "text": [
      "20000it [00:12, 1591.07it/s]\n",
      "307it [00:00, 1561.44it/s]"
     ]
    },
    {
     "name": "stdout",
     "output_type": "stream",
     "text": [
      "../_processed_data/client_tr_history_12.tsv\n"
     ]
    },
    {
     "name": "stderr",
     "output_type": "stream",
     "text": [
      "20000it [00:12, 1623.91it/s]\n",
      "167it [00:00, 1660.94it/s]"
     ]
    },
    {
     "name": "stdout",
     "output_type": "stream",
     "text": [
      "../_processed_data/client_tr_history_13.tsv\n"
     ]
    },
    {
     "name": "stderr",
     "output_type": "stream",
     "text": [
      "20000it [00:12, 1565.87it/s]\n",
      "336it [00:00, 1617.41it/s]"
     ]
    },
    {
     "name": "stdout",
     "output_type": "stream",
     "text": [
      "../_processed_data/client_tr_history_14.tsv\n"
     ]
    },
    {
     "name": "stderr",
     "output_type": "stream",
     "text": [
      "20000it [00:12, 1618.34it/s]\n",
      "174it [00:00, 1727.67it/s]"
     ]
    },
    {
     "name": "stdout",
     "output_type": "stream",
     "text": [
      "../_processed_data/client_tr_history_17.tsv\n"
     ]
    },
    {
     "name": "stderr",
     "output_type": "stream",
     "text": [
      "20000it [00:12, 1661.82it/s]\n",
      "345it [00:00, 1749.86it/s]"
     ]
    },
    {
     "name": "stdout",
     "output_type": "stream",
     "text": [
      "../_processed_data/client_tr_history_18.tsv\n"
     ]
    },
    {
     "name": "stderr",
     "output_type": "stream",
     "text": [
      "20000it [00:12, 1606.13it/s]\n",
      "331it [00:00, 1678.06it/s]"
     ]
    },
    {
     "name": "stdout",
     "output_type": "stream",
     "text": [
      "../_processed_data/client_tr_history_19.tsv\n"
     ]
    },
    {
     "name": "stderr",
     "output_type": "stream",
     "text": [
      "20000it [00:12, 1662.31it/s]\n",
      "325it [00:00, 1541.45it/s]"
     ]
    },
    {
     "name": "stdout",
     "output_type": "stream",
     "text": [
      "../_processed_data/client_tr_history_2.tsv\n"
     ]
    },
    {
     "name": "stderr",
     "output_type": "stream",
     "text": [
      "20000it [00:12, 1582.26it/s]\n",
      "504it [00:00, 1625.04it/s]"
     ]
    },
    {
     "name": "stdout",
     "output_type": "stream",
     "text": [
      "../_processed_data/client_tr_history_3.tsv\n"
     ]
    },
    {
     "name": "stderr",
     "output_type": "stream",
     "text": [
      "20000it [00:11, 1669.93it/s]\n",
      "301it [00:00, 1541.80it/s]"
     ]
    },
    {
     "name": "stdout",
     "output_type": "stream",
     "text": [
      "../_processed_data/client_tr_history_5.tsv\n"
     ]
    },
    {
     "name": "stderr",
     "output_type": "stream",
     "text": [
      "20000it [00:12, 1572.82it/s]\n",
      "174it [00:00, 1735.36it/s]"
     ]
    },
    {
     "name": "stdout",
     "output_type": "stream",
     "text": [
      "../_processed_data/client_tr_history_7.tsv\n"
     ]
    },
    {
     "name": "stderr",
     "output_type": "stream",
     "text": [
      "20000it [00:12, 1655.45it/s]\n",
      "330it [00:00, 1656.60it/s]"
     ]
    },
    {
     "name": "stdout",
     "output_type": "stream",
     "text": [
      "../_processed_data/client_tr_history_8.tsv\n"
     ]
    },
    {
     "name": "stderr",
     "output_type": "stream",
     "text": [
      "20000it [00:11, 1681.22it/s]\n",
      "543it [00:00, 1809.66it/s]"
     ]
    },
    {
     "name": "stdout",
     "output_type": "stream",
     "text": [
      "../_processed_data/client_tr_history_9.tsv\n"
     ]
    },
    {
     "name": "stderr",
     "output_type": "stream",
     "text": [
      "20000it [00:12, 1558.20it/s]\n",
      "323it [00:00, 1662.26it/s]"
     ]
    },
    {
     "name": "stdout",
     "output_type": "stream",
     "text": [
      "../_processed_data/client_tr_history_4.tsv\n"
     ]
    },
    {
     "name": "stderr",
     "output_type": "stream",
     "text": [
      "20000it [00:12, 1657.38it/s]\n",
      "255it [00:00, 2547.37it/s]"
     ]
    },
    {
     "name": "stdout",
     "output_type": "stream",
     "text": [
      "../_processed_data/client_tr_history_0.tsv\n"
     ]
    },
    {
     "name": "stderr",
     "output_type": "stream",
     "text": [
      "20000it [00:11, 1694.78it/s]\n",
      "323it [00:00, 1637.11it/s]"
     ]
    },
    {
     "name": "stdout",
     "output_type": "stream",
     "text": [
      "../_processed_data/client_tr_history_15.tsv\n"
     ]
    },
    {
     "name": "stderr",
     "output_type": "stream",
     "text": [
      "20000it [00:13, 1476.83it/s]\n",
      "172it [00:00, 1716.89it/s]"
     ]
    },
    {
     "name": "stdout",
     "output_type": "stream",
     "text": [
      "../_processed_data/client_tr_history_16.tsv\n"
     ]
    },
    {
     "name": "stderr",
     "output_type": "stream",
     "text": [
      "20000it [00:12, 1639.55it/s]\n",
      "323it [00:00, 1604.19it/s]"
     ]
    },
    {
     "name": "stdout",
     "output_type": "stream",
     "text": [
      "../_processed_data/client_tr_history_6.tsv\n"
     ]
    },
    {
     "name": "stderr",
     "output_type": "stream",
     "text": [
      "20000it [00:12, 1654.18it/s]"
     ]
    },
    {
     "name": "stdout",
     "output_type": "stream",
     "text": [
      "268982\n",
      "89643\n"
     ]
    },
    {
     "name": "stderr",
     "output_type": "stream",
     "text": [
      "\n"
     ]
    }
   ],
   "source": [
    "_fix_seeds(42)\n",
    "valid_time = datetime.strptime('2019-03-01 00:00:00', '%Y-%m-%d %H:%M:%S')\n",
    "valid_chunks = [\n",
    "    '../_processed_data/client_tr_history_4.tsv', \n",
    "    '../_processed_data/client_tr_history_0.tsv',\n",
    "    '../_processed_data/client_tr_history_15.tsv', \n",
    "    '../_processed_data/client_tr_history_16.tsv', \n",
    "    '../_processed_data/client_tr_history_6.tsv'\n",
    "]\n",
    "train_chunks = sorted(glob.glob('../_processed_data/client_tr_history_*'))\n",
    "train_chunks = [chunk for chunk in train_chunks\n",
    "                if chunk not in valid_chunks and chunk != '../_processed_data/client_tr_history_20.tsv']\n",
    "\n",
    "# get old product_index\n",
    "with open('../_model_files/incremental_encoder_dict_01_23_01.pckl', 'rb') as f:\n",
    "    inc_encoder = pickle.load(f)\n",
    "prodcut_index = inc_encoder['product_id']\n",
    "    \n",
    "train_dataset = TransactionsDataset(train_chunks, valid_time, prodcut_index, check_clients)\n",
    "valid_dataset = TransactionsDataset(valid_chunks, valid_time, prodcut_index, check_clients)\n",
    "\n",
    "# temp datasets for code check\n",
    "#train_dataset = TransactionsDataset([train_chunks[0]], valid_time, prodcut_index, check_clients)\n",
    "#valid_dataset = TransactionsDataset([valid_chunks[0]], valid_time, prodcut_index, check_clients)\n",
    "\n",
    "print(len(train_dataset))\n",
    "print(len(valid_dataset))"
   ]
  },
  {
   "cell_type": "code",
   "execution_count": 3,
   "metadata": {
    "ExecuteTime": {
     "end_time": "2020-02-21T05:40:31.020824Z",
     "start_time": "2020-02-21T05:40:31.018654Z"
    }
   },
   "outputs": [],
   "source": [
    "loader_params = {\n",
    "    'batch_size':80,\n",
    "    'shuffle':True,\n",
    "    'pin_memory':False,\n",
    "    'num_workers':4,\n",
    "}\n",
    "\n",
    "train_loader = DataLoader(train_dataset, \n",
    "                          collate_fn=dataloader_collate, \n",
    "                          **loader_params)\n",
    "valid_loader = DataLoader(valid_dataset, \n",
    "                          collate_fn=dataloader_collate, \n",
    "                          **loader_params)"
   ]
  },
  {
   "cell_type": "markdown",
   "metadata": {},
   "source": [
    "## Обучаем LSTM"
   ]
  },
  {
   "cell_type": "code",
   "execution_count": 4,
   "metadata": {
    "ExecuteTime": {
     "end_time": "2020-02-21T05:40:31.796878Z",
     "start_time": "2020-02-21T05:40:31.304928Z"
    }
   },
   "outputs": [],
   "source": [
    "model = TransactionLSTM(train_dataset.num_products, embedding_size=128, lstm_size=512, lstm_layers=1)\n",
    "loss = BCELogitsLoss()\n",
    "\n",
    "optimizer_params = {'lr': 1e-3, 'weight_decay': 1e-6}\n",
    "scheduler_params = {'T_max': 5, 'eta_min': 1e-5, 'last_epoch': -1}\n",
    "\n",
    "optimizer = optim.Adam(model.parameters(), **optimizer_params)\n",
    "scheduler = optim.lr_scheduler.CosineAnnealingLR(optimizer, **scheduler_params)\n",
    "#scheduler = None\n",
    "\n",
    "path_to_save_model = '../_model_files/model_lstm_02_20.pth'\n",
    "trainer = TransactionTrainer(path_to_save_model, train_loader, valid_loader, loss, 10, device)"
   ]
  },
  {
   "cell_type": "code",
   "execution_count": 5,
   "metadata": {
    "ExecuteTime": {
     "end_time": "2020-02-21T12:53:30.192975Z",
     "start_time": "2020-02-21T05:40:32.098825Z"
    }
   },
   "outputs": [
    {
     "name": "stdout",
     "output_type": "stream",
     "text": [
      "Starting epoch: 0 | time: 08:40:32\n",
      "LR: [0.001]\n",
      "train: 100%|██████████| 3363/3363 [33:28<00:00,  1.67it/s, nmap_batch - 0.07067, bce_logits_loss - 0.001713]\n",
      "valid: 100%|██████████| 1121/1121 [09:52<00:00,  1.89it/s, nmap_batch - 0.07602, bce_logits_loss - 0.001867]\n",
      "Valid avg loss: 0.001735\n",
      "Valid avg nmap: 0.062484\n",
      "*** Model saved! ***\n",
      "\n",
      "Starting epoch: 1 | time: 09:23:57\n",
      "LR: [0.000657963412215599]\n",
      "train: 100%|██████████| 3363/3363 [33:22<00:00,  1.68it/s, nmap_batch - 0.07406, bce_logits_loss - 0.001677]\n",
      "valid: 100%|██████████| 1121/1121 [09:53<00:00,  1.89it/s, nmap_batch - 0.07776, bce_logits_loss - 0.001861]\n",
      "Valid avg loss: 0.001692\n",
      "Valid avg nmap: 0.064379\n",
      "*** Model saved! ***\n",
      "\n",
      "Starting epoch: 2 | time: 10:07:13\n",
      "LR: [0.00010453658778440107]\n",
      "train: 100%|██████████| 3363/3363 [33:22<00:00,  1.68it/s, nmap_batch - 0.07675, bce_logits_loss - 0.001645]\n",
      "valid: 100%|██████████| 1121/1121 [09:53<00:00,  1.89it/s, nmap_batch - 0.07866, bce_logits_loss - 0.001826]\n",
      "Valid avg loss: 0.001654\n",
      "Valid avg nmap: 0.0657\n",
      "*** Model saved! ***\n",
      "\n",
      "Starting epoch: 3 | time: 10:50:30\n",
      "LR: [0.00010453658778440096]\n",
      "train: 100%|██████████| 3363/3363 [33:24<00:00,  1.68it/s, nmap_batch - 0.07551, bce_logits_loss - 0.001644]\n",
      "valid: 100%|██████████| 1121/1121 [09:54<00:00,  1.89it/s, nmap_batch - 0.07866, bce_logits_loss - 0.001829]\n",
      "Valid avg loss: 0.001649\n",
      "Valid avg nmap: 0.0657\n",
      "*** Model saved! ***\n",
      "\n",
      "Starting epoch: 4 | time: 11:33:49\n",
      "LR: [0.0006579634122155989]\n",
      "train: 100%|██████████| 3363/3363 [33:23<00:00,  1.68it/s, nmap_batch - 0.07408, bce_logits_loss - 0.001678]\n",
      "valid: 100%|██████████| 1121/1121 [09:53<00:00,  1.89it/s, nmap_batch - 0.07776, bce_logits_loss - 0.001868]\n",
      "Valid avg loss: 0.001686\n",
      "Valid avg nmap: 0.064366\n",
      "Starting epoch: 5 | time: 12:17:06\n",
      "LR: [0.001]\n",
      "train: 100%|██████████| 3363/3363 [33:22<00:00,  1.68it/s, nmap_batch - 0.07067, bce_logits_loss - 0.001703]\n",
      "valid: 100%|██████████| 1121/1121 [09:53<00:00,  1.89it/s, nmap_batch - 0.07604, bce_logits_loss - 0.001888]\n",
      "Valid avg loss: 0.001705\n",
      "Valid avg nmap: 0.0625\n",
      "Starting epoch: 6 | time: 13:00:22\n",
      "LR: [0.0006579634122155991]\n",
      "train: 100%|██████████| 3363/3363 [33:22<00:00,  1.68it/s, nmap_batch - 0.07408, bce_logits_loss - 0.001678]\n",
      "valid: 100%|██████████| 1121/1121 [09:54<00:00,  1.89it/s, nmap_batch - 0.07775, bce_logits_loss - 0.001868]\n",
      "Valid avg loss: 0.001686\n",
      "Valid avg nmap: 0.064365\n",
      "Starting epoch: 7 | time: 13:43:39\n",
      "LR: [0.00010453658778440112]\n",
      "train: 100%|██████████| 3363/3363 [33:22<00:00,  1.68it/s, nmap_batch - 0.07675, bce_logits_loss - 0.001645]\n",
      "valid: 100%|██████████| 1121/1121 [09:54<00:00,  1.89it/s, nmap_batch - 0.07866, bce_logits_loss - 0.00183] \n",
      "Valid avg loss: 0.001648\n",
      "Valid avg nmap: 0.0657\n",
      "*** Model saved! ***\n",
      "\n",
      "Starting epoch: 8 | time: 14:26:56\n",
      "LR: [0.0001045365877844009]\n",
      "train: 100%|██████████| 3363/3363 [33:22<00:00,  1.68it/s, nmap_batch - 0.07551, bce_logits_loss - 0.001645]\n",
      "valid: 100%|██████████| 1121/1121 [09:54<00:00,  1.89it/s, nmap_batch - 0.07866, bce_logits_loss - 0.00183] \n",
      "Valid avg loss: 0.001648\n",
      "Valid avg nmap: 0.0657\n",
      "Starting epoch: 9 | time: 15:10:12\n",
      "LR: [0.0006579634122155988]\n",
      "train: 100%|██████████| 3363/3363 [33:22<00:00,  1.68it/s, nmap_batch - 0.07408, bce_logits_loss - 0.001678]\n",
      "valid: 100%|██████████| 1121/1121 [09:54<00:00,  1.88it/s, nmap_batch - 0.07776, bce_logits_loss - 0.001868]\n",
      "Valid avg loss: 0.001686\n",
      "Valid avg nmap: 0.064366\n",
      "CPU times: user 4h 32min 30s, sys: 2h 25min 44s, total: 6h 58min 14s\n",
      "Wall time: 7h 12min 58s\n"
     ]
    }
   ],
   "source": [
    "%%time\n",
    "trainer.run_model(model, optimizer, scheduler)"
   ]
  },
  {
   "cell_type": "code",
   "execution_count": 6,
   "metadata": {
    "ExecuteTime": {
     "end_time": "2020-02-21T18:23:33.129329Z",
     "start_time": "2020-02-21T18:23:32.640674Z"
    }
   },
   "outputs": [
    {
     "data": {
      "image/png": "[encoded data removed]",
      "text/plain": [
       "<Figure size 720x936 with 3 Axes>"
      ]
     },
     "metadata": {
      "needs_background": "light"
     },
     "output_type": "display_data"
    }
   ],
   "source": [
    "# lstm_size=512, 10 epochs\n",
    "plot_loss_metrics(trainer.loss_history, {'nmap_mean': trainer.nmap_history, \n",
    "                                         'nmap_mean_batches': trainer.nmap_history_batches})"
   ]
  }
 ],
 "metadata": {
  "kernelspec": {
   "display_name": "Python 3",
   "language": "python",
   "name": "python3"
  },
  "language_info": {
   "codemirror_mode": {
    "name": "ipython",
    "version": 3
   },
   "file_extension": ".py",
   "mimetype": "text/x-python",
   "name": "python",
   "nbconvert_exporter": "python",
   "pygments_lexer": "ipython3",
   "version": "3.6.9"
  },
  "varInspector": {
   "cols": {
    "lenName": 16,
    "lenType": 16,
    "lenVar": 40
   },
   "kernels_config": {
    "python": {
     "delete_cmd_postfix": "",
     "delete_cmd_prefix": "del ",
     "library": "var_list.py",
     "varRefreshCmd": "print(var_dic_list())"
    },
    "r": {
     "delete_cmd_postfix": ") ",
     "delete_cmd_prefix": "rm(",
     "library": "var_list.r",
     "varRefreshCmd": "cat(var_dic_list()) "
    }
   },
   "position": {
    "height": "412.85px",
    "left": "1321.42px",
    "right": "20px",
    "top": "121px",
    "width": "357.167px"
   },
   "types_to_exclude": [
    "module",
    "function",
    "builtin_function_or_method",
    "instance",
    "_Feature"
   ],
   "window_display": false
  }
 },
 "nbformat": 4,
 "nbformat_minor": 2
}
