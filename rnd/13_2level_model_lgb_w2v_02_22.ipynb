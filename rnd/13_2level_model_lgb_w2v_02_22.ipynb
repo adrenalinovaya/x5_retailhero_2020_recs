{
 "cells": [
  {
   "cell_type": "markdown",
   "metadata": {},
   "source": [
    "# Обучим LGBM на предсобранных тренировочных данных\n",
    "\n",
    "date = 02.02.2020\n"
   ]
  },
  {
   "cell_type": "code",
   "execution_count": 1,
   "metadata": {
    "ExecuteTime": {
     "end_time": "2020-02-23T13:22:29.522961Z",
     "start_time": "2020-02-23T13:22:28.359937Z"
    }
   },
   "outputs": [],
   "source": [
    "import gc\n",
    "import os\n",
    "import csv\n",
    "import json\n",
    "import random\n",
    "import pickle\n",
    "import glob\n",
    "from datetime import datetime\n",
    "from collections import defaultdict\n",
    "\n",
    "import gensim\n",
    "import numpy as np\n",
    "import pandas as pd\n",
    "import implicit\n",
    "import lightgbm as lgb\n",
    "from sklearn.metrics import roc_auc_score\n",
    "from scipy.sparse.linalg import norm\n",
    "from scipy.sparse import csr_matrix\n",
    "from tqdm import tqdm\n",
    "\n",
    "from metrics_losses import (\n",
    "    normalized_average_precision,\n",
    "    average_precision\n",
    ")\n",
    "from utils import (\n",
    "    filter_user_item_pairs,\n",
    "    get_user_item_matrix,\n",
    "    blend_product_lists,\n",
    "    plot_lgb_feature_importance\n",
    ")\n",
    "from settings import(\n",
    "    baseline_items,\n",
    "    baseline_popular,\n",
    "    check_clients\n",
    ")\n",
    "\n",
    "import matplotlib.pyplot as plt\n",
    "plt.style.use('seaborn-poster')\n",
    "\n",
    "pd.set_option('display.max_rows', 200)\n",
    "pd.set_option('display.max_columns', 100)\n",
    "gc.enable()\n",
    "\n",
    "%matplotlib inline"
   ]
  },
  {
   "cell_type": "markdown",
   "metadata": {},
   "source": [
    "## Инкрементально обучим 7 моделей на разных чанках 02_01_3 + w2v фичи\n"
   ]
  },
  {
   "cell_type": "code",
   "execution_count": 2,
   "metadata": {
    "ExecuteTime": {
     "end_time": "2020-02-22T10:34:53.639452Z",
     "start_time": "2020-02-22T10:34:53.511932Z"
    }
   },
   "outputs": [
    {
     "name": "stdout",
     "output_type": "stream",
     "text": [
      "27 24 20\n",
      "20\n"
     ]
    }
   ],
   "source": [
    "lgb_params = {\n",
    "    'boosting': 'gbdt',\n",
    "    'objective': 'binary'#'lambdarank',\n",
    "    'metric': ['auc'],\n",
    "    #'eval_at': 30,\n",
    "    'is_training_metric': False,\n",
    "    'seed': 77,\n",
    "    'learning_rate': 0.03, #0.03\n",
    "    'min_data_in_leaf':500,\n",
    "    'save_binary': True,\n",
    "    'num_leaves': 30,\n",
    "    'max_bin': 32,\n",
    "    'feature_fraction': 0.7,\n",
    "    'bagging_fraction': 1,\n",
    "    'bagging_freq': 0,\n",
    "    'lambda_l2': 1.,\n",
    "    'lambda_l1': 1.,\n",
    "    'num_threads': 10,\n",
    "    'verbosity':-1,\n",
    "}\n",
    "num_trees = 120\n",
    "\n",
    "valid_chunks = [\n",
    "    '../_processed_data/train_features_02_01_3_4.tsv', \n",
    "    #'../_processed_data/train_features_02_01_3_0.tsv',\n",
    "    '../_processed_data/train_features_02_01_3_15.tsv', \n",
    "    '../_processed_data/train_features_02_01_3_16.tsv', \n",
    "    '../_processed_data/train_features_02_01_3_6.tsv'\n",
    "]\n",
    "exclude_chunks = [\n",
    "    '../_processed_data/train_features_02_01_3_20.tsv',\n",
    "    '../_processed_data/train_features_02_01_3_0.tsv',\n",
    "]\n",
    "train_chunks = sorted(glob.glob('../_processed_data/train_features_02_01_3_*'))\n",
    "train_chunks = [chunk for chunk in train_chunks \n",
    "                if chunk not in valid_chunks \n",
    "                and chunk not in exclude_chunks]\n",
    "column_names = [\n",
    "    'in_target_trans',\n",
    "    'product_id',\n",
    "    'level_1', 'level_2', 'level_3', 'level_4',\n",
    "    #'segment_id', \n",
    "    'brand_id', 'vendor_id', 'netto',\n",
    "    'is_own_trademark', #'is_alcohol',\n",
    "    \n",
    "    'product_perc', \n",
    "    'cnt_trans', \n",
    "    'client_age', #'client_gender', \n",
    "    'client_cnt_stores',\n",
    "    'first_last_days_diff',\n",
    "    'trans_days_diff_avg', #'trans_days_diff_std',\n",
    "    'last_tr_days_diff', 'last_tr_days_ratio',\n",
    "                        \n",
    "    'first_last_pr_days_diff',\n",
    "    'pr_days_diff_avg', 'pr_days_diff_std',\n",
    "    'last_pr_days_diff', 'last_pr_days_ratio',\n",
    "    \n",
    "    #'trans_len_avg', 'trans_len_std', \n",
    "    'trans_sum_avg', #'trans_sum_std',\n",
    "    'cnt_product_store',\n",
    "    #'product_store',\n",
    "    'product_perc_exp',\n",
    "    'pr_cnt_in_tr_avg'\n",
    "]\n",
    "cat_features = ['product_id', 'level_1', 'level_2', \n",
    "                'level_3', 'level_4',\n",
    "                'brand_id', 'vendor_id']\n",
    "\n",
    "target = 'in_target_trans'\n",
    "cols_to_drop = [\n",
    "    'level_1',\n",
    "    'client_cnt_stores',\n",
    "    #'product_perc'\n",
    "    #'product_id'\n",
    "]\n",
    "features = [col for col in column_names if col != target and col not in cols_to_drop]\n",
    "cat_features = [col for col in cat_features if col != target and col not in cols_to_drop]\n",
    "\n",
    "w2v_file = '../_model_files/w2v_01_29_2_10_20_20_2.wv'\n",
    "model_w2v = gensim.models.Word2Vec.load(w2v_file)\n",
    "W2V_SIZE = int(w2v_file.split('/')[-1].split('_')[-3])\n",
    "w2v_features = ['w2v_' + str(i) for i in range(W2V_SIZE)]\n",
    "\n",
    "with open('../_model_files/incremental_encoder_dict_01_23_01.pckl', 'rb') as f:\n",
    "    inc_encoder = pickle.load(f)\n",
    "    \n",
    "prodcut_index = inc_encoder['product_id']\n",
    "index_product = {v: k for k, v in prodcut_index.items()}\n",
    "\n",
    "print(len(column_names), len(features), len(w2v_features))\n",
    "print(W2V_SIZE)"
   ]
  },
  {
   "cell_type": "code",
   "execution_count": 3,
   "metadata": {
    "ExecuteTime": {
     "end_time": "2020-02-22T10:34:54.315969Z",
     "start_time": "2020-02-22T10:34:54.309711Z"
    }
   },
   "outputs": [
    {
     "name": "stdout",
     "output_type": "stream",
     "text": [
      "15\n"
     ]
    }
   ],
   "source": [
    "def drop_samples(df, num_candidates1lvl=100):\n",
    "    \"\"\"\n",
    "    If num_candidates1lvl samples doesn't have target=1 then \n",
    "    drop this num_candidates1lvl samples (one client)\n",
    "    \"\"\"\n",
    "    target_arr = np.split(df['in_target_trans'].values, int(df.shape[0]/num_candidates1lvl))\n",
    "    target_mask = [1 if sum(el)>0 else 0 for el in target_arr]\n",
    "    target_train_mask = np.repeat(target_mask, num_candidates1lvl)\n",
    "    df['target_train_mask'] = target_train_mask\n",
    "    \n",
    "    return df[df['target_train_mask'] == 1].copy()\n",
    "\n",
    "def map_features(x):\n",
    "    pr = index_product[x]\n",
    "    if pr in model_w2v.wv.vocab:\n",
    "        return model_w2v.wv[pr]\n",
    "    else:\n",
    "        return np.array([0.] * W2V_SIZE)\n",
    "\n",
    "\n",
    "def get_chunks(lst, chunk_size):\n",
    "    \"\"\"Yield successive n-sized chunks from lst.\"\"\"\n",
    "    for i in range(0, len(lst), chunk_size):\n",
    "        yield lst[i:i + chunk_size]\n",
    "\n",
    "train_chunks_rnd = train_chunks.copy()\n",
    "\n",
    "random.seed(7)\n",
    "random.shuffle(train_chunks_rnd)\n",
    "\n",
    "#train_chunks_1 = train_chunks_rnd[:3]\n",
    "#train_chunks_2 = train_chunks_rnd[3:6]\n",
    "#train_chunks_3 = train_chunks_rnd[6:9]\n",
    "#train_chunks_4 = train_chunks_rnd[9:12]\n",
    "#train_chunks_5 = train_chunks_rnd[12:15]\n",
    "\n",
    "print(len(train_chunks_rnd))\n",
    "\n",
    "#print(len(train_chunks_1), len(train_chunks_2), len(train_chunks_3), len(train_chunks_4), len(train_chunks_5))"
   ]
  },
  {
   "cell_type": "code",
   "execution_count": 4,
   "metadata": {
    "ExecuteTime": {
     "end_time": "2020-02-22T10:48:56.758044Z",
     "start_time": "2020-02-22T10:34:55.018986Z"
    },
    "collapsed": true
   },
   "outputs": [
    {
     "name": "stdout",
     "output_type": "stream",
     "text": [
      "../_processed_data/train_features_02_01_3_12.tsv\n",
      "(1791700, 27)\n",
      "(1472200, 28)\n",
      "(1472200, 44)\n"
     ]
    },
    {
     "name": "stderr",
     "output_type": "stream",
     "text": [
      "/home/mikhail/_projects/general-env/lib/python3.6/site-packages/lightgbm/basic.py:1291: UserWarning: Using categorical_feature in Dataset.\n",
      "  warnings.warn('Using categorical_feature in Dataset.')\n"
     ]
    },
    {
     "name": "stdout",
     "output_type": "stream",
     "text": [
      "[20]\tvalid's auc: 0.808424\n",
      "[40]\tvalid's auc: 0.810688\n",
      "[60]\tvalid's auc: 0.811926\n",
      "[80]\tvalid's auc: 0.812894\n",
      "[100]\tvalid's auc: 0.813521\n",
      "[120]\tvalid's auc: 0.813884\n",
      "train_features_02_01_3_15.tsv 0.814585\n",
      "train_features_02_01_3_16.tsv 0.814978\n",
      "train_features_02_01_3_6.tsv 0.814809\n",
      "avg AUC valid:  0.81479 \n",
      "\n",
      "../_processed_data/train_features_02_01_3_7.tsv\n",
      "(1794900, 27)\n",
      "(1469100, 28)\n",
      "(1469100, 44)\n"
     ]
    },
    {
     "name": "stderr",
     "output_type": "stream",
     "text": [
      "/home/mikhail/_projects/general-env/lib/python3.6/site-packages/lightgbm/basic.py:1291: UserWarning: Using categorical_feature in Dataset.\n",
      "  warnings.warn('Using categorical_feature in Dataset.')\n"
     ]
    },
    {
     "name": "stdout",
     "output_type": "stream",
     "text": [
      "[140]\tvalid's auc: 0.815492\n",
      "[160]\tvalid's auc: 0.816211\n",
      "[180]\tvalid's auc: 0.81631\n",
      "[200]\tvalid's auc: 0.816273\n",
      "[220]\tvalid's auc: 0.816081\n",
      "[240]\tvalid's auc: 0.815848\n",
      "train_features_02_01_3_15.tsv 0.816585\n",
      "train_features_02_01_3_16.tsv 0.816237\n",
      "train_features_02_01_3_6.tsv 0.815877\n",
      "avg AUC valid:  0.816233 \n",
      "\n",
      "*********Model saved 1 \n",
      "\n",
      "../_processed_data/train_features_02_01_3_9.tsv\n",
      "(1793700, 27)\n",
      "(1460800, 28)\n",
      "(1460800, 44)\n"
     ]
    },
    {
     "name": "stderr",
     "output_type": "stream",
     "text": [
      "/home/mikhail/_projects/general-env/lib/python3.6/site-packages/lightgbm/basic.py:1291: UserWarning: Using categorical_feature in Dataset.\n",
      "  warnings.warn('Using categorical_feature in Dataset.')\n"
     ]
    },
    {
     "name": "stdout",
     "output_type": "stream",
     "text": [
      "[20]\tvalid's auc: 0.809294\n",
      "[40]\tvalid's auc: 0.810773\n",
      "[60]\tvalid's auc: 0.811907\n",
      "[80]\tvalid's auc: 0.813007\n",
      "[100]\tvalid's auc: 0.813771\n",
      "[120]\tvalid's auc: 0.81428\n",
      "train_features_02_01_3_15.tsv 0.815707\n",
      "train_features_02_01_3_16.tsv 0.815559\n",
      "train_features_02_01_3_6.tsv 0.815735\n",
      "avg AUC valid:  0.815667 \n",
      "\n",
      "../_processed_data/train_features_02_01_3_18.tsv\n",
      "(1792400, 27)\n",
      "(1462000, 28)\n",
      "(1462000, 44)\n"
     ]
    },
    {
     "name": "stderr",
     "output_type": "stream",
     "text": [
      "/home/mikhail/_projects/general-env/lib/python3.6/site-packages/lightgbm/basic.py:1291: UserWarning: Using categorical_feature in Dataset.\n",
      "  warnings.warn('Using categorical_feature in Dataset.')\n"
     ]
    },
    {
     "name": "stdout",
     "output_type": "stream",
     "text": [
      "[140]\tvalid's auc: 0.815896\n",
      "[160]\tvalid's auc: 0.816376\n",
      "[180]\tvalid's auc: 0.816449\n",
      "[200]\tvalid's auc: 0.816287\n",
      "[220]\tvalid's auc: 0.815966\n",
      "[240]\tvalid's auc: 0.815707\n",
      "train_features_02_01_3_15.tsv 0.817056\n",
      "train_features_02_01_3_16.tsv 0.816787\n",
      "train_features_02_01_3_6.tsv 0.816333\n",
      "avg AUC valid:  0.816725 \n",
      "\n",
      "*********Model saved 2 \n",
      "\n",
      "../_processed_data/train_features_02_01_3_5.tsv\n",
      "(1792100, 27)\n",
      "(1467800, 28)\n",
      "(1467800, 44)\n"
     ]
    },
    {
     "name": "stderr",
     "output_type": "stream",
     "text": [
      "/home/mikhail/_projects/general-env/lib/python3.6/site-packages/lightgbm/basic.py:1291: UserWarning: Using categorical_feature in Dataset.\n",
      "  warnings.warn('Using categorical_feature in Dataset.')\n"
     ]
    },
    {
     "name": "stdout",
     "output_type": "stream",
     "text": [
      "[20]\tvalid's auc: 0.809143\n",
      "[40]\tvalid's auc: 0.811036\n",
      "[60]\tvalid's auc: 0.81197\n",
      "[80]\tvalid's auc: 0.81317\n",
      "[100]\tvalid's auc: 0.813793\n",
      "[120]\tvalid's auc: 0.814284\n",
      "train_features_02_01_3_15.tsv 0.815667\n",
      "train_features_02_01_3_16.tsv 0.815078\n",
      "train_features_02_01_3_6.tsv 0.815276\n",
      "avg AUC valid:  0.81534 \n",
      "\n",
      "../_processed_data/train_features_02_01_3_13.tsv\n",
      "(1795100, 27)\n",
      "(1472900, 28)\n",
      "(1472900, 44)\n"
     ]
    },
    {
     "name": "stderr",
     "output_type": "stream",
     "text": [
      "/home/mikhail/_projects/general-env/lib/python3.6/site-packages/lightgbm/basic.py:1291: UserWarning: Using categorical_feature in Dataset.\n",
      "  warnings.warn('Using categorical_feature in Dataset.')\n"
     ]
    },
    {
     "name": "stdout",
     "output_type": "stream",
     "text": [
      "[140]\tvalid's auc: 0.815804\n",
      "[160]\tvalid's auc: 0.816328\n",
      "[180]\tvalid's auc: 0.816316\n",
      "[200]\tvalid's auc: 0.816162\n",
      "[220]\tvalid's auc: 0.815922\n",
      "[240]\tvalid's auc: 0.815625\n",
      "train_features_02_01_3_15.tsv 0.816879\n",
      "train_features_02_01_3_16.tsv 0.816703\n",
      "train_features_02_01_3_6.tsv 0.817271\n",
      "avg AUC valid:  0.816951 \n",
      "\n",
      "*********Model saved 3 \n",
      "\n",
      "../_processed_data/train_features_02_01_3_8.tsv\n",
      "(1796400, 27)\n",
      "(1467200, 28)\n",
      "(1467200, 44)\n"
     ]
    },
    {
     "name": "stderr",
     "output_type": "stream",
     "text": [
      "/home/mikhail/_projects/general-env/lib/python3.6/site-packages/lightgbm/basic.py:1291: UserWarning: Using categorical_feature in Dataset.\n",
      "  warnings.warn('Using categorical_feature in Dataset.')\n"
     ]
    },
    {
     "name": "stdout",
     "output_type": "stream",
     "text": [
      "[20]\tvalid's auc: 0.809536\n",
      "[40]\tvalid's auc: 0.811406\n",
      "[60]\tvalid's auc: 0.812872\n",
      "[80]\tvalid's auc: 0.813876\n",
      "[100]\tvalid's auc: 0.814275\n",
      "[120]\tvalid's auc: 0.814613\n",
      "train_features_02_01_3_15.tsv 0.816159\n",
      "train_features_02_01_3_16.tsv 0.815981\n",
      "train_features_02_01_3_6.tsv 0.815843\n",
      "avg AUC valid:  0.815994 \n",
      "\n",
      "../_processed_data/train_features_02_01_3_2.tsv\n",
      "(1796900, 27)\n",
      "(1466300, 28)\n",
      "(1466300, 44)\n"
     ]
    },
    {
     "name": "stderr",
     "output_type": "stream",
     "text": [
      "/home/mikhail/_projects/general-env/lib/python3.6/site-packages/lightgbm/basic.py:1291: UserWarning: Using categorical_feature in Dataset.\n",
      "  warnings.warn('Using categorical_feature in Dataset.')\n"
     ]
    },
    {
     "name": "stdout",
     "output_type": "stream",
     "text": [
      "[140]\tvalid's auc: 0.81609\n",
      "[160]\tvalid's auc: 0.816539\n",
      "[180]\tvalid's auc: 0.816423\n",
      "[200]\tvalid's auc: 0.816215\n",
      "[220]\tvalid's auc: 0.815904\n",
      "[240]\tvalid's auc: 0.815532\n",
      "train_features_02_01_3_15.tsv 0.816691\n",
      "train_features_02_01_3_16.tsv 0.816792\n",
      "train_features_02_01_3_6.tsv 0.816519\n",
      "avg AUC valid:  0.816667 \n",
      "\n",
      "*********Model saved 4 \n",
      "\n",
      "../_processed_data/train_features_02_01_3_19.tsv\n",
      "(1795000, 27)\n",
      "(1472400, 28)\n",
      "(1472400, 44)\n"
     ]
    },
    {
     "name": "stderr",
     "output_type": "stream",
     "text": [
      "/home/mikhail/_projects/general-env/lib/python3.6/site-packages/lightgbm/basic.py:1291: UserWarning: Using categorical_feature in Dataset.\n",
      "  warnings.warn('Using categorical_feature in Dataset.')\n"
     ]
    },
    {
     "name": "stdout",
     "output_type": "stream",
     "text": [
      "[20]\tvalid's auc: 0.808936\n",
      "[40]\tvalid's auc: 0.810624\n",
      "[60]\tvalid's auc: 0.811583\n",
      "[80]\tvalid's auc: 0.81266\n",
      "[100]\tvalid's auc: 0.813224\n",
      "[120]\tvalid's auc: 0.813679\n",
      "train_features_02_01_3_15.tsv 0.815028\n",
      "train_features_02_01_3_16.tsv 0.814818\n",
      "train_features_02_01_3_6.tsv 0.814767\n",
      "avg AUC valid:  0.814871 \n",
      "\n",
      "../_processed_data/train_features_02_01_3_10.tsv\n",
      "(1792300, 27)\n",
      "(1460500, 28)\n",
      "(1460500, 44)\n"
     ]
    },
    {
     "name": "stderr",
     "output_type": "stream",
     "text": [
      "/home/mikhail/_projects/general-env/lib/python3.6/site-packages/lightgbm/basic.py:1291: UserWarning: Using categorical_feature in Dataset.\n",
      "  warnings.warn('Using categorical_feature in Dataset.')\n"
     ]
    },
    {
     "name": "stdout",
     "output_type": "stream",
     "text": [
      "[140]\tvalid's auc: 0.815379\n",
      "[160]\tvalid's auc: 0.816138\n",
      "[180]\tvalid's auc: 0.816303\n",
      "[200]\tvalid's auc: 0.816228\n",
      "[220]\tvalid's auc: 0.816032\n",
      "[240]\tvalid's auc: 0.815814\n",
      "train_features_02_01_3_15.tsv 0.816642\n",
      "train_features_02_01_3_16.tsv 0.816558\n",
      "train_features_02_01_3_6.tsv 0.816244\n",
      "avg AUC valid:  0.816481 \n",
      "\n",
      "*********Model saved 5 \n",
      "\n",
      "../_processed_data/train_features_02_01_3_1.tsv\n",
      "(1801800, 27)\n",
      "(1478200, 28)\n",
      "(1478200, 44)\n"
     ]
    },
    {
     "name": "stderr",
     "output_type": "stream",
     "text": [
      "/home/mikhail/_projects/general-env/lib/python3.6/site-packages/lightgbm/basic.py:1291: UserWarning: Using categorical_feature in Dataset.\n",
      "  warnings.warn('Using categorical_feature in Dataset.')\n"
     ]
    },
    {
     "name": "stdout",
     "output_type": "stream",
     "text": [
      "[20]\tvalid's auc: 0.808961\n",
      "[40]\tvalid's auc: 0.810886\n",
      "[60]\tvalid's auc: 0.812189\n",
      "[80]\tvalid's auc: 0.813354\n",
      "[100]\tvalid's auc: 0.813993\n",
      "[120]\tvalid's auc: 0.81437\n",
      "train_features_02_01_3_15.tsv 0.815692\n",
      "train_features_02_01_3_16.tsv 0.81561\n",
      "train_features_02_01_3_6.tsv 0.81497\n",
      "avg AUC valid:  0.815424 \n",
      "\n",
      "../_processed_data/train_features_02_01_3_3.tsv\n",
      "(1790300, 27)\n",
      "(1467800, 28)\n",
      "(1467800, 44)\n"
     ]
    },
    {
     "name": "stderr",
     "output_type": "stream",
     "text": [
      "/home/mikhail/_projects/general-env/lib/python3.6/site-packages/lightgbm/basic.py:1291: UserWarning: Using categorical_feature in Dataset.\n",
      "  warnings.warn('Using categorical_feature in Dataset.')\n"
     ]
    },
    {
     "name": "stdout",
     "output_type": "stream",
     "text": [
      "[140]\tvalid's auc: 0.815755\n",
      "[160]\tvalid's auc: 0.816224\n",
      "[180]\tvalid's auc: 0.816308\n",
      "[200]\tvalid's auc: 0.816166\n",
      "[220]\tvalid's auc: 0.815927\n",
      "[240]\tvalid's auc: 0.815664\n",
      "train_features_02_01_3_15.tsv 0.816783\n",
      "train_features_02_01_3_16.tsv 0.816448\n",
      "train_features_02_01_3_6.tsv 0.815805\n",
      "avg AUC valid:  0.816345 \n",
      "\n",
      "*********Model saved 6 \n",
      "\n",
      "../_processed_data/train_features_02_01_3_17.tsv\n",
      "(1791100, 27)\n",
      "(1473200, 28)\n",
      "(1473200, 44)\n"
     ]
    },
    {
     "name": "stderr",
     "output_type": "stream",
     "text": [
      "/home/mikhail/_projects/general-env/lib/python3.6/site-packages/lightgbm/basic.py:1291: UserWarning: Using categorical_feature in Dataset.\n",
      "  warnings.warn('Using categorical_feature in Dataset.')\n"
     ]
    },
    {
     "name": "stdout",
     "output_type": "stream",
     "text": [
      "[20]\tvalid's auc: 0.80913\n",
      "[40]\tvalid's auc: 0.810874\n",
      "[60]\tvalid's auc: 0.812019\n",
      "[80]\tvalid's auc: 0.813117\n",
      "[100]\tvalid's auc: 0.813564\n",
      "[120]\tvalid's auc: 0.814015\n",
      "train_features_02_01_3_15.tsv 0.815355\n",
      "train_features_02_01_3_16.tsv 0.814964\n",
      "train_features_02_01_3_6.tsv 0.815175\n",
      "avg AUC valid:  0.815165 \n",
      "\n",
      "../_processed_data/train_features_02_01_3_11.tsv\n",
      "(1792900, 27)\n",
      "(1473000, 28)\n",
      "(1473000, 44)\n"
     ]
    },
    {
     "name": "stderr",
     "output_type": "stream",
     "text": [
      "/home/mikhail/_projects/general-env/lib/python3.6/site-packages/lightgbm/basic.py:1291: UserWarning: Using categorical_feature in Dataset.\n",
      "  warnings.warn('Using categorical_feature in Dataset.')\n"
     ]
    },
    {
     "name": "stdout",
     "output_type": "stream",
     "text": [
      "[140]\tvalid's auc: 0.815857\n",
      "[160]\tvalid's auc: 0.816303\n",
      "[180]\tvalid's auc: 0.816351\n",
      "[200]\tvalid's auc: 0.816157\n",
      "[220]\tvalid's auc: 0.815808\n",
      "[240]\tvalid's auc: 0.815512\n",
      "train_features_02_01_3_15.tsv 0.816712\n",
      "train_features_02_01_3_16.tsv 0.816484\n",
      "train_features_02_01_3_6.tsv 0.816655\n",
      "avg AUC valid:  0.816617 \n",
      "\n",
      "*********Model saved 7 \n",
      "\n",
      "CPU times: user 1h 22min 38s, sys: 26.6 s, total: 1h 23min 4s\n",
      "Wall time: 14min 1s\n"
     ]
    }
   ],
   "source": [
    "%%time\n",
    "chunk_size = 2\n",
    "\n",
    "for model_ind, tr_ch in enumerate(get_chunks(train_chunks_rnd[:14], chunk_size)):\n",
    "    # train model\n",
    "    lgb_model_cur = None\n",
    "\n",
    "    valid = pd.read_csv(valid_chunks[0], sep='\\t', names=column_names)\n",
    "    # drop samples without target=1\n",
    "    valid = drop_samples(valid, 100)\n",
    "    \n",
    "    # get w2v features\n",
    "    products = valid['product_id'].values.tolist()\n",
    "    w2v_df = pd.DataFrame(np.array([map_features(pr) for pr in products]), columns=w2v_features)\n",
    "    valid = pd.concat([valid.reset_index(drop=True), w2v_df], axis=1)\n",
    "    \n",
    "    lgb_valid = lgb.Dataset(valid[features + w2v_features], \n",
    "                            label=valid[target],\n",
    "                            group=np.repeat(100, int(valid.shape[0]/100)),\n",
    "                            categorical_feature=cat_features, \n",
    "                            free_raw_data=False)\n",
    "    #lgb_valid = lgb.Dataset(valid[features], valid[target], \n",
    "    #                        categorical_feature=cat_features, free_raw_data=False)\n",
    "    for chunk in tr_ch:\n",
    "        print(chunk)\n",
    "        train = pd.read_csv(chunk, sep='\\t', names=column_names)\n",
    "        print(train.shape)\n",
    "        \n",
    "        # drop samples without target=1\n",
    "        train = drop_samples(train, 100) \n",
    "        print(train.shape)\n",
    "        \n",
    "        # get w2v features\n",
    "        products = train['product_id'].values.tolist()\n",
    "        w2v_df = pd.DataFrame(np.array([map_features(pr) for pr in products]), columns=w2v_features)\n",
    "        train = pd.concat([train.reset_index(drop=True), w2v_df], axis=1) \n",
    "        print(train[features + w2v_features].shape)\n",
    "        \n",
    "        lgb_train = lgb.Dataset(train[features + w2v_features], \n",
    "                                label=train[target],\n",
    "                                group=np.repeat(100, int(train.shape[0]/100)),\n",
    "                                categorical_feature=cat_features)\n",
    "        #lgb_train = lgb.Dataset(train[features], train[target], \n",
    "        #                            categorical_feature=cat_features)\n",
    "\n",
    "        lgb_model = lgb.train(lgb_params, lgb_train, num_trees,  \n",
    "                                  valid_sets=[lgb_valid],\n",
    "                                  valid_names=['valid'],\n",
    "                                  #feval=nmap_lgb,\n",
    "                                  verbose_eval=20,\n",
    "                                  init_model=lgb_model_cur,\n",
    "                                  #feature_name=features)\n",
    "                                  feature_name=features + w2v_features)\n",
    "        lgb_model_cur = lgb_model\n",
    "\n",
    "        del train, lgb_train, lgb_model\n",
    "        gc.collect()\n",
    "\n",
    "        cur_aucs = []\n",
    "        for valid_file in valid_chunks[1:]:\n",
    "            \n",
    "            valid_cur = pd.read_csv(valid_file, sep='\\t', names=column_names)\n",
    "            \n",
    "            # drop samples without target=1\n",
    "            valid_cur = drop_samples(valid_cur, 100)    \n",
    "            \n",
    "            # get w2v features\n",
    "            products = valid_cur['product_id'].values.tolist()\n",
    "            w2v_df = pd.DataFrame(np.array([map_features(pr) for pr in products]), columns=w2v_features)\n",
    "            valid_cur = pd.concat([valid_cur.reset_index(drop=True), w2v_df], axis=1) \n",
    "            \n",
    "            y_valid_pred = lgb_model_cur.predict(valid_cur[features + w2v_features])\n",
    "            #y_valid_pred = lgb_model_cur.predict(valid_cur[features])\n",
    "            \n",
    "            score = roc_auc_score(valid_cur[target], y_valid_pred)\n",
    "            cur_aucs.append(score)\n",
    "            print(valid_file.split('/')[-1], round(score, 6))\n",
    "\n",
    "        print('avg AUC valid: ', round(np.mean(cur_aucs), 6), '\\n')        \n",
    "    \n",
    "    # save model\n",
    "    lgb_model_cur.save_model('../_model_files/model_lgb_clsf_02_22_1_{num}.txt'.format(num=str(model_ind + 1)))\n",
    "    print('*********Model saved {num} \\n'.format(num=str(model_ind + 1)))"
   ]
  },
  {
   "cell_type": "code",
   "execution_count": 6,
   "metadata": {
    "ExecuteTime": {
     "end_time": "2020-02-22T10:49:13.058025Z",
     "start_time": "2020-02-22T10:49:12.644247Z"
    },
    "collapsed": true
   },
   "outputs": [
    {
     "data": {
      "image/png": "[encoded data removed]",
      "text/plain": [
       "<Figure size 864x864 with 1 Axes>"
      ]
     },
     "metadata": {
      "needs_background": "light"
     },
     "output_type": "display_data"
    }
   ],
   "source": [
    "plot_lgb_feature_importance(lgb_model_cur, 50)"
   ]
  },
  {
   "cell_type": "code",
   "execution_count": 7,
   "metadata": {
    "ExecuteTime": {
     "end_time": "2020-02-22T10:49:23.314121Z",
     "start_time": "2020-02-22T10:49:23.306440Z"
    },
    "scrolled": true
   },
   "outputs": [
    {
     "data": {
      "text/plain": [
       "[('product_perc_exp', 560938.3781356812),\n",
       " ('product_id', 264649.5162220001),\n",
       " ('product_perc', 136414.75174713135),\n",
       " ('first_last_pr_days_diff', 99250.14596652985),\n",
       " ('level_4', 84055.56713104248),\n",
       " ('brand_id', 70432.6747264862),\n",
       " ('vendor_id', 45897.418274879456),\n",
       " ('level_3', 43621.07930183411),\n",
       " ('pr_days_diff_std', 32131.31780052185),\n",
       " ('pr_days_diff_avg', 25625.19065093994),\n",
       " ('pr_cnt_in_tr_avg', 14395.477372169495),\n",
       " ('last_pr_days_diff', 5989.323225021362),\n",
       " ('last_pr_days_ratio', 4316.6150007247925),\n",
       " ('cnt_product_store', 4220.7139892578125),\n",
       " ('w2v_3', 4010.321668624878),\n",
       " ('level_2', 2170.2459716796875),\n",
       " ('w2v_4', 1716.006121635437),\n",
       " ('netto', 1697.1198434829712),\n",
       " ('w2v_17', 692.5279846191406),\n",
       " ('w2v_16', 600.8791084289551),\n",
       " ('w2v_14', 507.49798583984375),\n",
       " ('w2v_12', 455.4495611190796),\n",
       " ('w2v_5', 430.82559967041016),\n",
       " ('w2v_0', 420.5091857910156),\n",
       " ('w2v_10', 306.2892961502075),\n",
       " ('w2v_6', 293.63459396362305),\n",
       " ('is_own_trademark', 292.1609992980957),\n",
       " ('w2v_7', 288.6001024246216),\n",
       " ('w2v_13', 269.9364004135132),\n",
       " ('w2v_1', 252.71189880371094),\n",
       " ('w2v_11', 70.64687061309814),\n",
       " ('w2v_2', 48.58530044555664),\n",
       " ('w2v_15', 47.870710372924805),\n",
       " ('w2v_8', 40.803001403808594),\n",
       " ('w2v_19', 31.34610080718994),\n",
       " ('cnt_trans', 0.0),\n",
       " ('client_age', 0.0),\n",
       " ('first_last_days_diff', 0.0),\n",
       " ('trans_days_diff_avg', 0.0),\n",
       " ('last_tr_days_diff', 0.0),\n",
       " ('last_tr_days_ratio', 0.0),\n",
       " ('trans_sum_avg', 0.0),\n",
       " ('w2v_9', 0.0),\n",
       " ('w2v_18', 0.0)]"
      ]
     },
     "execution_count": 7,
     "metadata": {},
     "output_type": "execute_result"
    }
   ],
   "source": [
    "items_score = [(feat,score) for feat, score \n",
    " in zip(lgb_model_cur.feature_name(), lgb_model_cur.feature_importance(importance_type='gain'))]\n",
    "sorted(items_score, key=lambda x: x[1], reverse=True)"
   ]
  },
  {
   "cell_type": "markdown",
   "metadata": {},
   "source": [
    "## Предсказываем check"
   ]
  },
  {
   "cell_type": "code",
   "execution_count": 2,
   "metadata": {
    "ExecuteTime": {
     "end_time": "2020-02-23T13:22:31.150386Z",
     "start_time": "2020-02-23T13:22:31.130001Z"
    }
   },
   "outputs": [],
   "source": [
    "class IncrementalEncoder():\n",
    "    \"\"\"\n",
    "    Incremental Label Encoder for several features in row. \n",
    "    \"\"\"\n",
    "    def __init__(self, column_names):\n",
    "        self.column_names = column_names\n",
    "        self.column_indexes = {col: {} for col in self.column_names}\n",
    "        self.column_ind_cur = {col: 0 for col in self.column_names}\n",
    "        \n",
    "    def iterate(self, row_values):\n",
    "        for col, value in zip(self.column_names, row_values):\n",
    "            if value not in self.column_indexes[col]:\n",
    "                self.column_indexes[col][value] = self.column_ind_cur[col]\n",
    "                self.column_ind_cur[col] += 1\n",
    "    \n",
    "    def get_column_indexers(self):\n",
    "        return self.column_indexes\n",
    "    \n",
    "    def get_column_names(self):\n",
    "        return self.column_names\n",
    "\n",
    "    \n",
    "def get_user_vector(user_products_, item_index_, user_vector_):\n",
    "    user_vector = user_vector_.copy()\n",
    "    \n",
    "    for pr in user_products_:\n",
    "        if pr in item_index_:\n",
    "            user_vector[0, item_index_[pr]] = user_products_[pr]\n",
    "            \n",
    "    return user_vector\n",
    "\n",
    "\n",
    "def get_trans_dates_features(tr_dates, target_dt_):    \n",
    "    trans_days_diff = [(t - s).days for s, t in zip(tr_dates, tr_dates[1:])]\n",
    "    \n",
    "    first_last_days_diff = (tr_dates[-1] - tr_dates[0]).days\n",
    "    trans_days_diff_avg = round(np.mean(trans_days_diff), 2)\n",
    "    #trans_days_diff_std = round(np.std(trans_days_diff), 2)\n",
    "    \n",
    "    last_tr_days_diff = (target_dt_ - tr_dates[-1]).days\n",
    "    last_tr_days_ratio = round(last_tr_days_diff/trans_days_diff_avg, 6) if trans_days_diff_avg > 0 else 0\n",
    "    \n",
    "    return first_last_days_diff, trans_days_diff_avg, \\\n",
    "        last_tr_days_diff, last_tr_days_ratio\n",
    "\n",
    "\n",
    "def get_prod_dates_features(pr_dates_, target_dt_):\n",
    "    if len(pr_dates_) > 1:\n",
    "        pr_days_diff = [(t - s).days for s, t in zip(pr_dates_, pr_dates_[1:])]   \n",
    "\n",
    "        first_last_pr_days_diff = (pr_dates_[-1] - pr_dates_[0]).days\n",
    "        pr_days_diff_avg = round(np.mean(pr_days_diff), 2) if len(pr_days_diff) > 0 else 0\n",
    "        pr_days_diff_std = round(np.std(pr_days_diff), 2) if len(pr_days_diff) > 0 else 0\n",
    "\n",
    "        last_pr_days_diff = (target_dt_ - pr_dates_[-1]).days\n",
    "        last_pr_days_ratio = round(last_pr_days_diff/pr_days_diff_avg, 6) if pr_days_diff_avg > 0 else 0\n",
    "        \n",
    "        return first_last_pr_days_diff, pr_days_diff_avg, pr_days_diff_std, \\\n",
    "            last_pr_days_diff, last_pr_days_ratio\n",
    "    else:\n",
    "        return 0, 0, 0, 0, 0"
   ]
  },
  {
   "cell_type": "code",
   "execution_count": 3,
   "metadata": {
    "ExecuteTime": {
     "end_time": "2020-02-23T13:22:33.030591Z",
     "start_time": "2020-02-23T13:22:33.019075Z"
    }
   },
   "outputs": [
    {
     "name": "stdout",
     "output_type": "stream",
     "text": [
      "35 24\n"
     ]
    }
   ],
   "source": [
    "column_names = [\n",
    "    'client_id',\n",
    "    'in_target_trans',\n",
    "    'product_id',\n",
    "    \n",
    "    'level_1', 'level_2', 'level_3', 'level_4',\n",
    "    #'segment_id', \n",
    "    'brand_id', 'vendor_id', 'netto',\n",
    "    'is_own_trademark', #'is_alcohol',\n",
    "    \n",
    "    'product_perc', 'cnt_trans', \n",
    "    'client_age', #'client_gender', \n",
    "    #'client_cnt_stores',\n",
    "    'first_last_days_diff',\n",
    "    'trans_days_diff_avg', #'trans_days_diff_std',\n",
    "    'last_tr_days_diff', 'last_tr_days_ratio',\n",
    "                        \n",
    "    'first_last_pr_days_diff',\n",
    "    'pr_days_diff_avg', 'pr_days_diff_std',\n",
    "    'last_pr_days_diff', 'last_pr_days_ratio',\n",
    "    \n",
    "    #'trans_len_avg', 'trans_len_std', \n",
    "    'trans_sum_avg', #'trans_sum_std',\n",
    "    #'cnt_product_store',\n",
    "    'product_perc_exp',\n",
    "    'pr_cnt_in_tr_avg',\n",
    "    'lvl1_ind',\n",
    "    \n",
    "    'user_brand_perc',\n",
    "    'user_brand_perc_exp',\n",
    "    'user_vendor_perc',\n",
    "    'user_vendor_perc_exp',\n",
    "    'user_level4_perc',\n",
    "    'user_level4_perc_exp',\n",
    "    'user_level3_perc',\n",
    "    'user_level3_perc_exp',\n",
    "]\n",
    "cat_features = ['product_id', 'level_1', 'level_2', \n",
    "                'level_3', 'level_4',\n",
    "                'brand_id', 'vendor_id']\n",
    "\n",
    "target = 'in_target_trans'\n",
    "cols_to_drop = [\n",
    "    'client_id',\n",
    "    'level_1',\n",
    "    'level_2',\n",
    "    'user_vendor_perc_exp',\n",
    "    'user_level4_perc_exp',\n",
    "    'user_level3_perc_exp',\n",
    "    'first_last_days_diff',\n",
    "    'trans_days_diff_avg',\n",
    "    'last_tr_days_diff',\n",
    "    'last_tr_days_ratio',\n",
    "]\n",
    "features = [col for col in column_names if col != target and col not in cols_to_drop]\n",
    "cat_features = [col for col in cat_features if col != target and col not in cols_to_drop]\n",
    "print(len(column_names), len(features))"
   ]
  },
  {
   "cell_type": "code",
   "execution_count": 4,
   "metadata": {
    "ExecuteTime": {
     "end_time": "2020-02-23T13:22:36.290836Z",
     "start_time": "2020-02-23T13:22:35.172646Z"
    }
   },
   "outputs": [
    {
     "name": "stdout",
     "output_type": "stream",
     "text": [
      "20\n",
      "36670\n"
     ]
    }
   ],
   "source": [
    "with open('../_model_files/item_index_02_01_3.pckl', 'rb') as f:\n",
    "    item_index = pickle.load(f)\n",
    "index_item = {v: k for k, v in item_index.items()}\n",
    "\n",
    "with open('../_model_files/model_implicit_nn_tfidf_02_01_3.pckl', 'rb') as f:\n",
    "    model_nn = pickle.load(f)\n",
    "    \n",
    "with open('../_model_files/incremental_encoder_01_23_01.pckl', 'rb') as f:\n",
    "    inc_encoder = pickle.load(f)\n",
    "    \n",
    "with open('../_model_files/clients_features_01_23_01.pckl', 'rb') as f:\n",
    "    clients_features = pickle.load(f)\n",
    "    \n",
    "with open('../_model_files/product_features_01_23_01.pckl', 'rb') as f:\n",
    "    product_features = pickle.load(f)\n",
    "    \n",
    "w2v_file = '../_model_files/w2v_01_29_2_10_20_20_2.wv'\n",
    "model_w2v = gensim.models.Word2Vec.load(w2v_file)\n",
    "W2V_SIZE = int(w2v_file.split('/')[-1].split('_')[-3])\n",
    "print(W2V_SIZE)\n",
    "\n",
    "with open('../_processed_data/baseline_popular_feb.pckl', 'rb') as f:\n",
    "    baseline_popular_feb = pickle.load(f)\n",
    "print(len(baseline_popular_feb))"
   ]
  },
  {
   "cell_type": "code",
   "execution_count": 5,
   "metadata": {
    "ExecuteTime": {
     "end_time": "2020-02-23T13:22:42.948079Z",
     "start_time": "2020-02-23T13:22:42.880567Z"
    }
   },
   "outputs": [],
   "source": [
    "def run_queries_2levels(model_nn, lgb_model, model_w2v,\n",
    "                        check_file, \n",
    "                        inc_encoder, clients_features, product_features,\n",
    "                        num_candidates=50):\n",
    "    \"\"\"\n",
    "    Take implicit model and lgbm model and make recommendations\n",
    "    \"\"\"\n",
    "    num_items = len(item_index)\n",
    "    ap_values = []\n",
    "    baseline_popular_feb_cur = baseline_popular_feb[:num_candidates].copy()\n",
    "    \n",
    "    prodcut_index = inc_encoder.get_column_indexers()['product_id']\n",
    "    level1_index = inc_encoder.get_column_indexers()['level_1']\n",
    "    level2_index = inc_encoder.get_column_indexers()['level_2']\n",
    "    level3_index = inc_encoder.get_column_indexers()['level_3']\n",
    "    level4_index = inc_encoder.get_column_indexers()['level_4']\n",
    "    brand_index = inc_encoder.get_column_indexers()['brand_id']\n",
    "    vendor_index = inc_encoder.get_column_indexers()['vendor_id']    \n",
    "    \n",
    "    with open(check_file) as fin:\n",
    "        for line in tqdm(fin):\n",
    "            query_data, next_transaction = line.strip().split('\\t')\n",
    "            query_data, next_transaction = json.loads(query_data), json.loads(next_transaction)\n",
    "\n",
    "            transaction_history = query_data['transaction_history']\n",
    "            cnt_trans = len(transaction_history)\n",
    "            client_id = query_data['client_id']\n",
    "            query_dt = datetime.strptime(query_data['query_time'], '%Y-%m-%dT%H:%M:%S')\n",
    "            \n",
    "            # age processing\n",
    "            #client_age = query_data.get('age', 0)\n",
    "            #if client_age < 14 or client_age > 100:\n",
    "            #    client_age = 0\n",
    "\n",
    "            # gender processing\n",
    "            #client_gender = query_data.get('gender', 'U')\n",
    "            #client_gender = gender_map[client_gender]\n",
    "            \n",
    "            if cnt_trans > 1:               \n",
    "                sorted_transactions = sorted(transaction_history, \n",
    "                                             key=lambda x: datetime.strptime(x['datetime'], '%Y-%m-%dT%H:%M:%S'))\n",
    "                \n",
    "                last_tr_dt = datetime.strptime(sorted_transactions[-1]['datetime'], '%Y-%m-%dT%H:%M:%S')\n",
    "                first_tr_dt = datetime.strptime(sorted_transactions[0]['datetime'], '%Y-%m-%dT%H:%M:%S')\n",
    "                coef1 = (query_dt - first_tr_dt).days + 1\n",
    "                coef2 = (query_dt - last_tr_dt).days \n",
    "\n",
    "                user_products = defaultdict(float)\n",
    "                user_products_exp = defaultdict(float)\n",
    "                #user_product_store = defaultdict(set)\n",
    "                user_product_dates = defaultdict(list)\n",
    "                user_product_cnt_in_tr = defaultdict(list)\n",
    "                \n",
    "                # brand features\n",
    "                user_brand = defaultdict(float)\n",
    "                #user_brand_dates = defaultdict(list)\n",
    "                user_brand_exp = defaultdict(float)\n",
    "\n",
    "                # vendor features\n",
    "                user_vendor = defaultdict(float)\n",
    "                #user_vendor_dates = defaultdict(list)\n",
    "                #user_vendor_exp = defaultdict(float)\n",
    "\n",
    "                # level features\n",
    "                user_level4 = defaultdict(float)\n",
    "                #user_level4_dates = defaultdict(list)\n",
    "                #user_level4_exp = defaultdict(float)\n",
    "\n",
    "                user_level3 = defaultdict(float)\n",
    "                #user_level3_exp = defaultdict(float)\n",
    "                \n",
    "                user_vector = np.zeros(shape=(1, num_items), dtype=np.float32)\n",
    "                purchase_sums = []\n",
    "                trans_dates = []\n",
    "                stores = set()\n",
    "                \n",
    "                for transaction in sorted_transactions:\n",
    "                    purchase_sums.append(float(transaction['purchase_sum']))\n",
    "                    \n",
    "                    tr_dt = datetime.strptime(transaction['datetime'], '%Y-%m-%dT%H:%M:%S')\n",
    "                    trans_dates.append(tr_dt)\n",
    "                    \n",
    "                    cur_days_diff = (query_dt - tr_dt).days\n",
    "                    \n",
    "                    #store_id = transaction['store_id']\n",
    "                    #stores.add(store_id)\n",
    "                    \n",
    "                    pr_cnt_in_tr = len(transaction['products'])\n",
    "                    \n",
    "                    for pr in transaction['products']:\n",
    "                        # for 1lvl model\n",
    "                        user_products[pr['product_id']] += 1./cnt_trans\n",
    "                        # for 2lvl model\n",
    "                        user_products_exp[pr['product_id']] += np.exp(-(cur_days_diff - coef2)/coef1)/cnt_trans\n",
    "                        #user_product_store[pr['product_id']].add(store_id)\n",
    "                        user_product_dates[pr['product_id']].append(tr_dt)\n",
    "                        user_product_cnt_in_tr[pr['product_id']].append(pr_cnt_in_tr)\n",
    "                        \n",
    "                        # brand features\n",
    "                        brand_id = product_features[pr['product_id']]['brand_id']\n",
    "                        user_brand[brand_id] += 1./cnt_trans\n",
    "                        #user_brand_dates[brand_id].append(tr_dt)\n",
    "                        user_brand_exp[brand_id] += np.exp(-(cur_days_diff - coef2)/coef1)/cnt_trans\n",
    "                        \n",
    "                        # vendor features\n",
    "                        vendor_id = product_features[pr['product_id']]['vendor_id']\n",
    "                        user_vendor[vendor_id] += 1./cnt_trans\n",
    "                        #user_vendor_dates[vendor_id].append(tr_dt)\n",
    "                        #user_vendor_exp[brand_id] += np.exp(-(cur_days_diff - coef2)/coef1)/cnt_trans\n",
    "                        \n",
    "                        # level features\n",
    "                        level4 = product_features[pr['product_id']]['level_4']\n",
    "                        user_level4[level4] += 1./cnt_trans\n",
    "                        #user_level4_exp[brand_id] += np.exp(-(cur_days_diff - coef2)/coef1)/cnt_trans\n",
    "                        \n",
    "                        level3 = product_features[pr['product_id']]['level_3']\n",
    "                        user_level3[level3] += 1./cnt_trans\n",
    "                        #user_level3_exp[brand_id] += np.exp(-(cur_days_diff - coef2)/coef1)/cnt_trans\n",
    "                \n",
    "                # get dummy candidates   \n",
    "                ups = sorted(user_products.items(), key=lambda x: x[1], reverse=True)\n",
    "                items_ranked = [item[0] for item in ups if item[1] > 1./cnt_trans]\n",
    "                \n",
    "                items_ranked_set = set(items_ranked)\n",
    "                rec_len = len(items_ranked)\n",
    "                \n",
    "                if rec_len < num_candidates:\n",
    "                    items_add = [item for item in baseline_popular_feb_cur if item not in items_ranked_set]\n",
    "                    candidates_dummy = items_ranked + items_add[:num_candidates - rec_len]\n",
    "                else:\n",
    "                    candidates_dummy = items_ranked.copy()\n",
    "                \n",
    "                # get model nn candidates\n",
    "                user_vector = get_user_vector(user_products, item_index, user_vector)\n",
    "                raw_recs = model_nn.recommend(userid=0, user_items=csr_matrix(user_vector), \n",
    "                                              N=num_candidates,\n",
    "                                              filter_already_liked_items=False, recalculate_user=True)\n",
    "                candidates_nn = [index_item[ind] for (ind, score) in raw_recs]\n",
    "                \n",
    "                # blend 1lvl models: dummy and implicit_nn_tfidf\n",
    "                candidates_product = blend_product_lists(*[candidates_nn, candidates_dummy], \n",
    "                                                         num_candidates=num_candidates)   \n",
    "                # features for product\n",
    "                trans_sum_avg = np.mean(purchase_sums)\n",
    "                #trans_sum_std = np.std(purchase_sums)       \n",
    "\n",
    "                client_age = clients_features[client_id]['age']\n",
    "                #client_gender = clients_features[client_id]['gender']\n",
    "                #client_cnt_stores = len(stores)\n",
    "\n",
    "                # trans dates features\n",
    "                #first_last_days_diff, trans_days_diff_avg, \\\n",
    "                #    last_tr_days_diff, last_tr_days_ratio = get_trans_dates_features(trans_dates, query_dt)\n",
    "\n",
    "                \n",
    "                # collect NUM_CANDIDATES_1LEVEL rows for every client\n",
    "                user_features = []\n",
    "\n",
    "                for lvl1_ind, pr in enumerate(candidates_product):\n",
    "                    if pr in product_features:\n",
    "                        \n",
    "                        pr_dates = user_product_dates[pr]\n",
    "                        first_last_pr_days_diff, \\\n",
    "                                pr_days_diff_avg, \\\n",
    "                                pr_days_diff_std, \\\n",
    "                                last_pr_days_diff, \\\n",
    "                                last_pr_days_ratio = get_prod_dates_features(pr_dates, query_dt)\n",
    "                        row_ = [\n",
    "                            prodcut_index[pr],\n",
    "\n",
    "                            #level1_index[product_features[pr]['level_1']], \n",
    "                            #level2_index[product_features[pr]['level_2']],\n",
    "                            level3_index[product_features[pr]['level_3']], \n",
    "                            level4_index[product_features[pr]['level_4']],\n",
    "                            #product_features[pr]['segment_id'], \n",
    "                            brand_index[product_features[pr]['brand_id']],\n",
    "                            vendor_index[product_features[pr]['vendor_id']],\n",
    "                            product_features[pr]['netto'],\n",
    "                            product_features[pr]['is_own_trademark'], \n",
    "                            #product_features[pr]['is_alcohol'],\n",
    "\n",
    "                            round(user_products[pr], 6), \n",
    "                            cnt_trans, \n",
    "                            client_age, \n",
    "\n",
    "                            #first_last_days_diff,\n",
    "                            #trans_days_diff_avg, #trans_days_diff_std,\n",
    "                            #last_tr_days_diff, last_tr_days_ratio,\n",
    "\n",
    "                            first_last_pr_days_diff,\n",
    "                            pr_days_diff_avg, pr_days_diff_std,\n",
    "                            last_pr_days_diff, last_pr_days_ratio,\n",
    "\n",
    "                            round(trans_sum_avg, 2), #round(trans_sum_std, 2),\n",
    "                            #len(user_product_store[pr]),\n",
    "                            round(user_products_exp[pr], 4),\n",
    "                            round(np.mean(user_product_cnt_in_tr[pr]) if pr in user_product_cnt_in_tr else 0, 4),\n",
    "                            lvl1_ind,\n",
    "                            \n",
    "                            # other cat features\n",
    "                            round(user_brand[product_features[pr]['brand_id']], 4),\n",
    "                            round(user_brand_exp[product_features[pr]['brand_id']], 4),\n",
    "                            round(user_vendor[product_features[pr]['vendor_id']], 4),\n",
    "                            #round(user_vendor_exp[product_features[pr]['vendor_id']], 4),\n",
    "                            round(user_level4[product_features[pr]['level_4']], 4),\n",
    "                            #round(user_level4_exp[product_features[pr]['level_4']], 4),\n",
    "                            round(user_level3[product_features[pr]['level_3']], 4),\n",
    "                            #round(user_level3_exp[product_features[pr]['level_3']], 4),\n",
    "                        ]\n",
    "                        #if pr in model_w2v.wv.vocab:\n",
    "                        #    row_add = model_w2v.wv[pr].tolist()\n",
    "                        #else:\n",
    "                        #    row_add = [0.]*W2V_SIZE\n",
    "                        #row_.extend(row_add)\n",
    "                        user_features.append(row_)\n",
    "\n",
    "                user_preds = lgb_model.predict(np.array(user_features))\n",
    "                cand_dict = {pr:pred for pr, pred in zip(candidates_product, user_preds.tolist())}\n",
    "                temp_cands = sorted(cand_dict.items(), key=lambda x: x[1], reverse=True)\n",
    "                candidates_ = [x[0] for x in temp_cands][:30]\n",
    "\n",
    "                rec_len = len(candidates_)\n",
    "\n",
    "                if rec_len < 30:\n",
    "                    items_add = [item for item in baseline_items if item not in candidates_]\n",
    "                    candidates = candidates_ + items_add[:30 - rec_len]\n",
    "                else:\n",
    "                    candidates = candidates_.copy()\n",
    "            else:\n",
    "                candidates = baseline_items.copy()\n",
    "                #candidates = candidates_product[:30]\n",
    "\n",
    "            ap = normalized_average_precision(next_transaction['product_ids'], candidates)\n",
    "            ap_values.append(ap)    \n",
    "    \n",
    "    return ap_values"
   ]
  },
  {
   "cell_type": "code",
   "execution_count": 7,
   "metadata": {
    "ExecuteTime": {
     "end_time": "2020-02-23T13:33:58.146533Z",
     "start_time": "2020-02-23T13:32:39.327543Z"
    },
    "scrolled": true
   },
   "outputs": [
    {
     "name": "stderr",
     "output_type": "stream",
     "text": [
      "101it [00:07, 13.52it/s]\n",
      "2it [00:00, 14.19it/s]"
     ]
    },
    {
     "name": "stdout",
     "output_type": "stream",
     "text": [
      "model_lgb_clsf_02_22_5_1.txt\n",
      "0.13562861509497381 \n",
      "\n"
     ]
    },
    {
     "name": "stderr",
     "output_type": "stream",
     "text": [
      "101it [00:07, 13.66it/s]\n",
      "0it [00:00, ?it/s]"
     ]
    },
    {
     "name": "stdout",
     "output_type": "stream",
     "text": [
      "model_lgb_clsf_02_22_5_10.txt\n",
      "0.13320740930751543 \n",
      "\n"
     ]
    },
    {
     "name": "stderr",
     "output_type": "stream",
     "text": [
      "101it [00:07, 12.90it/s]\n",
      "2it [00:00, 15.72it/s]"
     ]
    },
    {
     "name": "stdout",
     "output_type": "stream",
     "text": [
      "model_lgb_clsf_02_22_5_2.txt\n",
      "0.13466925445130892 \n",
      "\n"
     ]
    },
    {
     "name": "stderr",
     "output_type": "stream",
     "text": [
      "101it [00:08, 12.60it/s]\n",
      "0it [00:00, ?it/s]"
     ]
    },
    {
     "name": "stdout",
     "output_type": "stream",
     "text": [
      "model_lgb_clsf_02_22_5_3.txt\n",
      "0.12766354638711938 \n",
      "\n"
     ]
    },
    {
     "name": "stderr",
     "output_type": "stream",
     "text": [
      "101it [00:07, 12.84it/s]\n",
      "0it [00:00, ?it/s]"
     ]
    },
    {
     "name": "stdout",
     "output_type": "stream",
     "text": [
      "model_lgb_clsf_02_22_5_4.txt\n",
      "0.13783723002528875 \n",
      "\n"
     ]
    },
    {
     "name": "stderr",
     "output_type": "stream",
     "text": [
      "101it [00:07, 12.83it/s]\n",
      "2it [00:00, 16.45it/s]"
     ]
    },
    {
     "name": "stdout",
     "output_type": "stream",
     "text": [
      "model_lgb_clsf_02_22_5_5.txt\n",
      "0.14034199520436724 \n",
      "\n"
     ]
    },
    {
     "name": "stderr",
     "output_type": "stream",
     "text": [
      "101it [00:07, 12.83it/s]\n",
      "2it [00:00, 15.59it/s]"
     ]
    },
    {
     "name": "stdout",
     "output_type": "stream",
     "text": [
      "model_lgb_clsf_02_22_5_6.txt\n",
      "0.13168926419509444 \n",
      "\n"
     ]
    },
    {
     "name": "stderr",
     "output_type": "stream",
     "text": [
      "101it [00:07, 12.76it/s]\n",
      "2it [00:00, 16.21it/s]"
     ]
    },
    {
     "name": "stdout",
     "output_type": "stream",
     "text": [
      "model_lgb_clsf_02_22_5_7.txt\n",
      "0.1291042846446409 \n",
      "\n"
     ]
    },
    {
     "name": "stderr",
     "output_type": "stream",
     "text": [
      "101it [00:08, 12.42it/s]\n",
      "2it [00:00, 13.17it/s]"
     ]
    },
    {
     "name": "stdout",
     "output_type": "stream",
     "text": [
      "model_lgb_clsf_02_22_5_8.txt\n",
      "0.12843516759966728 \n",
      "\n"
     ]
    },
    {
     "name": "stderr",
     "output_type": "stream",
     "text": [
      "101it [00:07, 12.64it/s]"
     ]
    },
    {
     "name": "stdout",
     "output_type": "stream",
     "text": [
      "model_lgb_clsf_02_22_5_9.txt\n",
      "0.131046559707986 \n",
      "\n",
      "CPU times: user 7min 11s, sys: 596 ms, total: 7min 12s\n",
      "Wall time: 1min 18s\n"
     ]
    },
    {
     "name": "stderr",
     "output_type": "stream",
     "text": [
      "\n"
     ]
    }
   ],
   "source": [
    "%%time\n",
    "NUM_CANDIDATES_1LEVEL = 1000\n",
    "queryset_file = '../retailhero-recommender-v2/data/check_queries.tsv'\n",
    "lgb_models = sorted(glob.glob('../_model_files/model_lgb_clsf_02_22_5_*'))\n",
    "ap_values_all = {}\n",
    "\n",
    "for lgb_file in lgb_models:\n",
    "    lgb_m = lgb.Booster(model_file=lgb_file)\n",
    "    ap_values = run_queries_2levels(model_nn, lgb_m, model_w2v,\n",
    "                                queryset_file, \n",
    "                                inc_encoder, clients_features, product_features,\n",
    "                                num_candidates=NUM_CANDIDATES_1LEVEL)\n",
    "    print(lgb_file.split('/')[-1])\n",
    "    print(sum(ap_values) / len(ap_values), '\\n')\n",
    "    ap_values_all[lgb_file] = ap_values"
   ]
  },
  {
   "cell_type": "markdown",
   "metadata": {},
   "source": [
    "## Смотрим что получилось"
   ]
  },
  {
   "cell_type": "code",
   "execution_count": 8,
   "metadata": {
    "ExecuteTime": {
     "end_time": "2020-02-23T16:02:32.228512Z",
     "start_time": "2020-02-23T16:02:32.224474Z"
    }
   },
   "outputs": [],
   "source": [
    "valid_chunks = [\n",
    "    '../_processed_data/train_features_02_22_5_4.tsv', \n",
    "    '../_processed_data/train_features_02_22_5_0.tsv',\n",
    "    '../_processed_data/train_features_02_22_5_15.tsv', \n",
    "    '../_processed_data/train_features_02_22_5_16.tsv', \n",
    "    '../_processed_data/train_features_02_22_5_6.tsv'\n",
    "]\n",
    "\n",
    "exclude_chunks = [\n",
    "    '../_processed_data/train_features_02_22_5_20.tsv',\n",
    "    #'../_processed_data/train_features_02_01_3_0.tsv',\n",
    "]\n",
    "train_chunks = sorted(glob.glob('../_processed_data/train_features_02_22_5_*'))\n",
    "train_chunks = [chunk for chunk in train_chunks \n",
    "                if chunk not in valid_chunks \n",
    "                and chunk not in exclude_chunks]\n",
    "column_names = [\n",
    "    'client_id',\n",
    "    'in_target_trans',\n",
    "    'product_id',\n",
    "    \n",
    "    #'level_1', 'level_2', \n",
    "    'level_3', 'level_4',\n",
    "    #'segment_id', \n",
    "    'brand_id', 'vendor_id', 'netto',\n",
    "    'is_own_trademark', #'is_alcohol',\n",
    "    \n",
    "    'product_perc', 'cnt_trans', \n",
    "    'client_age', #'client_gender', \n",
    "    #'client_cnt_stores',\n",
    "    'first_last_days_diff',\n",
    "    'trans_days_diff_avg', #'trans_days_diff_std',\n",
    "    'last_tr_days_diff', 'last_tr_days_ratio',\n",
    "                        \n",
    "    'first_last_pr_days_diff',\n",
    "    'pr_days_diff_avg', 'pr_days_diff_std',\n",
    "    'last_pr_days_diff', 'last_pr_days_ratio',\n",
    "    \n",
    "    #'trans_len_avg', 'trans_len_std', \n",
    "    'trans_sum_avg', #'trans_sum_std',\n",
    "    #'cnt_product_store',\n",
    "    'product_perc_exp',\n",
    "    'pr_cnt_in_tr_avg',\n",
    "    'lvl1_ind',\n",
    "    \n",
    "    'user_brand_perc',\n",
    "    'user_brand_perc_exp',\n",
    "    'user_vendor_perc',\n",
    "    'user_level4_perc',\n",
    "    'user_level3_perc',\n",
    "]"
   ]
  },
  {
   "cell_type": "code",
   "execution_count": 11,
   "metadata": {
    "ExecuteTime": {
     "end_time": "2020-02-23T16:05:12.958904Z",
     "start_time": "2020-02-23T16:05:00.866516Z"
    }
   },
   "outputs": [
    {
     "name": "stdout",
     "output_type": "stream",
     "text": [
      "../_processed_data/train_features_02_22_5_10.tsv\n",
      "(6245600, 30)\n"
     ]
    }
   ],
   "source": [
    "chunk = '../_processed_data/train_features_02_22_5_10.tsv'\n",
    "train = pd.read_csv(chunk, sep='\\t', names=column_names)\n",
    "print(chunk)\n",
    "print(train.shape)"
   ]
  },
  {
   "cell_type": "markdown",
   "metadata": {},
   "source": [
    "## Проверка ансамбля на валидационных данных"
   ]
  },
  {
   "cell_type": "code",
   "execution_count": 8,
   "metadata": {
    "ExecuteTime": {
     "end_time": "2020-02-22T09:39:51.040088Z",
     "start_time": "2020-02-22T09:39:51.032319Z"
    }
   },
   "outputs": [],
   "source": [
    "class IncrementalEncoder():\n",
    "    \"\"\"\n",
    "    Incremental Label Encoder for several features in row. \n",
    "    \"\"\"\n",
    "    def __init__(self, column_names):\n",
    "        self.column_names = column_names\n",
    "        self.column_indexes = {col: {} for col in self.column_names}\n",
    "        self.column_ind_cur = {col: 0 for col in self.column_names}\n",
    "        \n",
    "    def iterate(self, row_values):\n",
    "        for col, value in zip(self.column_names, row_values):\n",
    "            if value not in self.column_indexes[col]:\n",
    "                self.column_indexes[col][value] = self.column_ind_cur[col]\n",
    "                self.column_ind_cur[col] += 1\n",
    "    \n",
    "    def get_column_indexers(self):\n",
    "        return self.column_indexes\n",
    "    \n",
    "    def get_column_names(self):\n",
    "        return self.column_names\n",
    "\n",
    "    \n",
    "def get_user_vector(user_products_, item_index_, user_vector_):\n",
    "    user_vector = user_vector_.copy()\n",
    "    \n",
    "    for pr in user_products_:\n",
    "        if pr in item_index_:\n",
    "            user_vector[0, item_index_[pr]] = user_products_[pr]\n",
    "            \n",
    "    return user_vector\n",
    "\n",
    "\n",
    "def get_trans_dates_features(tr_dates, target_dt_):    \n",
    "    trans_days_diff = [(t - s).days for s, t in zip(tr_dates, tr_dates[1:])]\n",
    "    \n",
    "    first_last_days_diff = (tr_dates[-1] - tr_dates[0]).days\n",
    "    trans_days_diff_avg = round(np.mean(trans_days_diff), 2)\n",
    "    #trans_days_diff_std = round(np.std(trans_days_diff), 2)\n",
    "    \n",
    "    last_tr_days_diff = (target_dt_ - tr_dates[-1]).days\n",
    "    last_tr_days_ratio = round(last_tr_days_diff/trans_days_diff_avg, 6) if trans_days_diff_avg > 0 else 0\n",
    "    \n",
    "    return first_last_days_diff, trans_days_diff_avg, \\\n",
    "        last_tr_days_diff, last_tr_days_ratio\n",
    "\n",
    "\n",
    "def get_prod_dates_features(pr_dates_, target_dt_):  \n",
    "    pr_days_diff = [(t - s).days for s, t in zip(pr_dates_, pr_dates_[1:])]   \n",
    "    \n",
    "    first_last_pr_days_diff = (pr_dates_[-1] - pr_dates_[0]).days\n",
    "    pr_days_diff_avg = round(np.mean(pr_days_diff), 2) if len(pr_days_diff) > 0 else 0\n",
    "    pr_days_diff_std = round(np.std(pr_days_diff), 2) if len(pr_days_diff) > 0 else 0\n",
    "                        \n",
    "    last_pr_days_diff = (target_dt_ - pr_dates_[-1]).days\n",
    "    last_pr_days_ratio = round(last_pr_days_diff/pr_days_diff_avg, 6) if pr_days_diff_avg > 0 else 0\n",
    "                \n",
    "    \n",
    "    return first_last_pr_days_diff, pr_days_diff_avg, pr_days_diff_std, \\\n",
    "        last_pr_days_diff, last_pr_days_ratio"
   ]
  },
  {
   "cell_type": "code",
   "execution_count": 9,
   "metadata": {
    "ExecuteTime": {
     "end_time": "2020-02-22T09:40:01.435646Z",
     "start_time": "2020-02-22T09:40:00.886340Z"
    }
   },
   "outputs": [
    {
     "name": "stdout",
     "output_type": "stream",
     "text": [
      "20\n"
     ]
    }
   ],
   "source": [
    "w2v_file = '../_model_files/w2v_01_29_2_10_20_20_2.wv'\n",
    "model_w2v = gensim.models.Word2Vec.load(w2v_file)\n",
    "W2V_SIZE = int(w2v_file.split('/')[-1].split('_')[-3])\n",
    "print(W2V_SIZE)\n",
    "\n",
    "with open('../_model_files/item_index_02_01_3.pckl', 'rb') as f:\n",
    "    item_index = pickle.load(f)\n",
    "index_item = {v: k for k, v in item_index.items()}\n",
    "num_items = len(item_index)\n",
    "\n",
    "with open('../_model_files/model_implicit_nn_tfidf_02_01_3.pckl', 'rb') as f:\n",
    "    model_nn = pickle.load(f)\n",
    "    \n",
    "with open('../_model_files/incremental_encoder_01_23_01.pckl', 'rb') as f:\n",
    "    inc_encoder = pickle.load(f)\n",
    "    \n",
    "with open('../_model_files/clients_features_01_23_01.pckl', 'rb') as f:\n",
    "    clients_features = pickle.load(f)\n",
    "    \n",
    "with open('../_model_files/product_features_01_23_01.pckl', 'rb') as f:\n",
    "    product_features = pickle.load(f)\n",
    "    \n",
    "with open('../_processed_data/products_fresh_feb_5.pckl', 'rb') as f:\n",
    "    fresh_items = pickle.load(f)\n",
    "\n",
    "prodcut_index = inc_encoder.get_column_indexers()['product_id']\n",
    "level1_index = inc_encoder.get_column_indexers()['level_1']\n",
    "level2_index = inc_encoder.get_column_indexers()['level_2']\n",
    "level3_index = inc_encoder.get_column_indexers()['level_3']\n",
    "level4_index = inc_encoder.get_column_indexers()['level_4']\n",
    "brand_index = inc_encoder.get_column_indexers()['brand_id']\n",
    "vendor_index = inc_encoder.get_column_indexers()['vendor_id'] "
   ]
  },
  {
   "cell_type": "code",
   "execution_count": 10,
   "metadata": {
    "ExecuteTime": {
     "end_time": "2020-02-22T09:40:13.199828Z",
     "start_time": "2020-02-22T09:40:13.177226Z"
    }
   },
   "outputs": [],
   "source": [
    "def run_queries_ensemble(model_nn, lgb_models, model_w2v,\n",
    "                        check_file,\n",
    "                        num_candidates=100):\n",
    "    \"\"\"\n",
    "    Take implicit model and 3 lgbm models and make recommendations\n",
    "    \"\"\"\n",
    "    ap_values = [] \n",
    "    \n",
    "    with open(check_file) as fin:\n",
    "        for line in tqdm(fin):\n",
    "            query_data, next_transaction = line.strip().split('\\t')\n",
    "            query_data, next_transaction = json.loads(query_data), json.loads(next_transaction)\n",
    "\n",
    "            transaction_history = query_data['transaction_history']\n",
    "            cnt_trans = len(transaction_history)\n",
    "            client_id = query_data['client_id']\n",
    "            query_dt = datetime.strptime(query_data['query_time'], '%Y-%m-%dT%H:%M:%S')\n",
    "            \n",
    "            # age processing\n",
    "            #client_age = query_data.get('age', 0)\n",
    "            #if client_age < 14 or client_age > 100:\n",
    "            #    client_age = 0\n",
    "\n",
    "            # gender processing\n",
    "            #client_gender = query_data.get('gender', 'U')\n",
    "            #client_gender = gender_map[client_gender]\n",
    "            \n",
    "            if cnt_trans > 1:               \n",
    "                sorted_transactions = sorted(transaction_history, \n",
    "                                             key=lambda x: datetime.strptime(x['datetime'], '%Y-%m-%dT%H:%M:%S'))\n",
    "                \n",
    "                last_tr_dt = datetime.strptime(sorted_transactions[-1]['datetime'], '%Y-%m-%dT%H:%M:%S')\n",
    "                first_tr_dt = datetime.strptime(sorted_transactions[0]['datetime'], '%Y-%m-%dT%H:%M:%S')\n",
    "                coef1 = (query_dt - first_tr_dt).days + 1\n",
    "                coef2 = (query_dt - last_tr_dt).days \n",
    "\n",
    "                user_products = defaultdict(float)\n",
    "                user_products_exp = defaultdict(float)\n",
    "                user_product_store = defaultdict(set)\n",
    "                user_product_dates = defaultdict(list)\n",
    "                user_product_cnt_in_tr = defaultdict(list)\n",
    "                \n",
    "                user_vector = np.zeros(shape=(1, num_items), dtype=np.float32)\n",
    "                purchase_sums = []\n",
    "                trans_dates = []\n",
    "                stores = set()\n",
    "                \n",
    "                for transaction in sorted_transactions:\n",
    "                    purchase_sums.append(float(transaction['purchase_sum']))\n",
    "                    \n",
    "                    tr_dt = datetime.strptime(transaction['datetime'], '%Y-%m-%dT%H:%M:%S')\n",
    "                    trans_dates.append(tr_dt)\n",
    "                    \n",
    "                    cur_days_diff = (query_dt - tr_dt).days\n",
    "                    \n",
    "                    store_id = transaction['store_id']\n",
    "                    stores.add(store_id)\n",
    "                    \n",
    "                    pr_cnt_in_tr = len(transaction['products'])\n",
    "                    \n",
    "                    for pr in transaction['products']:\n",
    "                        # for 1lvl model\n",
    "                        user_products[pr['product_id']] += 1./cnt_trans\n",
    "                        # for 2lvl model\n",
    "                        user_products_exp[pr['product_id']] += np.exp(-(cur_days_diff - coef2)/coef1)/cnt_trans\n",
    "                        user_product_store[pr['product_id']].add(store_id)\n",
    "                        user_product_dates[pr['product_id']].append(tr_dt)\n",
    "                        user_product_cnt_in_tr[pr['product_id']].append(pr_cnt_in_tr)\n",
    "                \n",
    "                # get dummy candidates   \n",
    "                ups = sorted(user_products.items(), key=lambda x: x[1], reverse=True)\n",
    "                items_ranked = [item[0] for item in ups if item[1] > 1./cnt_trans]\n",
    "                \n",
    "                items_ranked_set = set(items_ranked)\n",
    "                rec_len = len(items_ranked)\n",
    "                \n",
    "                if rec_len < num_candidates:\n",
    "                    items_add = [item for item in baseline_popular if item not in items_ranked_set]\n",
    "                    candidates_dummy = items_ranked + items_add[:num_candidates - rec_len]\n",
    "                else:\n",
    "                    candidates_dummy = items_ranked.copy()\n",
    "                \n",
    "                # get model nn candidates\n",
    "                user_vector = get_user_vector(user_products, item_index, user_vector)\n",
    "                raw_recs = model_nn.recommend(userid=0, user_items=csr_matrix(user_vector), \n",
    "                                              N=NUM_CANDIDATES_1LEVEL,\n",
    "                                              filter_already_liked_items=False, recalculate_user=True)\n",
    "                candidates_nn = [index_item[ind] for (ind, score) in raw_recs]\n",
    "                \n",
    "                # blend 1lvl models: dummy and implicit_nn_tfidf\n",
    "                candidates_product = blend_product_lists(*[candidates_nn, candidates_dummy], \n",
    "                                                         num_candidates=num_candidates)   \n",
    "                # features for product\n",
    "                trans_sum_avg = np.mean(purchase_sums)\n",
    "                #trans_sum_std = np.std(purchase_sums)       \n",
    "\n",
    "                client_age = clients_features[client_id]['age']\n",
    "                client_gender = clients_features[client_id]['gender']\n",
    "                client_cnt_stores = len(stores)\n",
    "\n",
    "                # trans dates features\n",
    "                first_last_days_diff, trans_days_diff_avg, \\\n",
    "                    last_tr_days_diff, last_tr_days_ratio = get_trans_dates_features(trans_dates, query_dt)\n",
    "\n",
    "                \n",
    "                # collect NUM_CANDIDATES_1LEVEL rows for every client\n",
    "                user_features = []\n",
    "\n",
    "                for pr in candidates_product:\n",
    "                    if pr in product_features:\n",
    "                        \n",
    "                        pr_dates = user_product_dates[pr]\n",
    "                        len_pr_dates = len(pr_dates)\n",
    "                        \n",
    "                        if len_pr_dates > 1:\n",
    "                            first_last_pr_days_diff, \\\n",
    "                                pr_days_diff_avg, \\\n",
    "                                pr_days_diff_std, \\\n",
    "                                last_pr_days_diff, \\\n",
    "                                last_pr_days_ratio = get_prod_dates_features(pr_dates, query_dt)\n",
    "                        else:\n",
    "                            first_last_pr_days_diff = 0\n",
    "                            pr_days_diff_avg = 0\n",
    "                            pr_days_diff_std = 0\n",
    "\n",
    "                            last_pr_days_diff = 0\n",
    "                            last_pr_days_ratio = 0\n",
    "                        row_ = [\n",
    "                                prodcut_index[pr], \n",
    "\n",
    "                                level1_index[product_features[pr]['level_1']], \n",
    "                                level2_index[product_features[pr]['level_2']],\n",
    "                                level3_index[product_features[pr]['level_3']], \n",
    "                                level4_index[product_features[pr]['level_4']],\n",
    "                                #product_features[pr]['segment_id'], \n",
    "                                brand_index[product_features[pr]['brand_id']],\n",
    "                                vendor_index[product_features[pr]['vendor_id']],\n",
    "                                product_features[pr]['netto'],\n",
    "                                product_features[pr]['is_own_trademark'], \n",
    "                                #product_features[pr]['is_alcohol'],\n",
    "\n",
    "                                round(user_products[pr], 6), \n",
    "                                cnt_trans, \n",
    "                                client_age, \n",
    "                                #client_gender,\n",
    "                                client_cnt_stores,\n",
    "\n",
    "                                first_last_days_diff,\n",
    "                                trans_days_diff_avg, #trans_days_diff_std,\n",
    "                                last_tr_days_diff, last_tr_days_ratio,\n",
    "\n",
    "                                first_last_pr_days_diff,\n",
    "                                pr_days_diff_avg, pr_days_diff_std,\n",
    "                                last_pr_days_diff, last_pr_days_ratio,\n",
    "\n",
    "                                #trans_len_avg, trans_len_std, \n",
    "                                round(trans_sum_avg, 2), #round(trans_sum_std, 2),\n",
    "                                len(user_product_store[pr]),\n",
    "                                round(user_products_exp[pr], 6),\n",
    "                                np.mean(user_product_cnt_in_tr[pr]) if pr in user_product_cnt_in_tr else 0,\n",
    "                        ]\n",
    "                        if pr in model_w2v.wv.vocab:\n",
    "                            row_add = model_w2v.wv[pr].tolist()\n",
    "                        else:\n",
    "                            row_add = [0.]*W2V_SIZE\n",
    "                        row_.extend(row_add)\n",
    "                        user_features.append(row_)\n",
    "                \n",
    "                user_preds = [lgb_model.predict(np.array(user_features)) for lgb_model in lgb_models]\n",
    "                candidates_ = []\n",
    "                \n",
    "                for user_pred in user_preds:\n",
    "                    cand_dict = {pr: pred for pr, pred in zip(candidates_product, user_pred.tolist())}\n",
    "                    temp_cands = sorted(cand_dict.items(), key=lambda x: x[1], reverse=True)\n",
    "                    candidates_.append([x[0] for x in temp_cands])\n",
    "\n",
    "                candidates_ = blend_product_lists(*candidates_, num_candidates=100)\n",
    "                # delete outdated items\n",
    "                candidates_ = [item for item in candidates_ if item in fresh_items]\n",
    "                candidates_ = candidates_[:30].copy()\n",
    "                candidates_set = set(candidates_)\n",
    "\n",
    "                rec_len = len(candidates_)\n",
    "\n",
    "                if rec_len < 30:\n",
    "                    items_add = [item for item in baseline_items if item not in candidates_]\n",
    "                    candidates = candidates_ + items_add[:30 - rec_len]\n",
    "                else:\n",
    "                    candidates = candidates_.copy()\n",
    "            else:\n",
    "                candidates = baseline_items.copy()\n",
    "                #candidates = candidates_product[:30]\n",
    "\n",
    "            ap = normalized_average_precision(next_transaction['product_ids'], candidates)\n",
    "            ap_values.append(ap)    \n",
    "    \n",
    "    return ap_values"
   ]
  },
  {
   "cell_type": "markdown",
   "metadata": {},
   "source": [
    "### Ансамбль на check"
   ]
  },
  {
   "cell_type": "code",
   "execution_count": 12,
   "metadata": {
    "ExecuteTime": {
     "end_time": "2020-02-22T09:42:04.437233Z",
     "start_time": "2020-02-22T09:42:03.209106Z"
    }
   },
   "outputs": [
    {
     "name": "stderr",
     "output_type": "stream",
     "text": [
      "101it [00:00, 102.69it/s]"
     ]
    },
    {
     "name": "stdout",
     "output_type": "stream",
     "text": [
      "0.14186230174960454\n",
      "CPU times: user 12.2 s, sys: 26.8 ms, total: 12.3 s\n",
      "Wall time: 1.22 s\n"
     ]
    },
    {
     "name": "stderr",
     "output_type": "stream",
     "text": [
      "\n"
     ]
    }
   ],
   "source": [
    "%%time\n",
    "NUM_CANDIDATES_1LEVEL = 100\n",
    "queryset_file = '../retailhero-recommender-v2/data/check_queries.tsv'\n",
    "# lgb models\n",
    "lgb_models = [\n",
    "    '../_model_files/model_lgb_clsf_02_22_1_3.txt',\n",
    "    '../_model_files/model_lgb_clsf_02_22_1_5.txt',\n",
    "    '../_model_files/model_lgb_clsf_02_22_1_7.txt'\n",
    "]\n",
    "lgb_models = [lgb.Booster(model_file=lgb_file) for lgb_file in lgb_models]\n",
    "model_w2v = gensim.models.Word2Vec.load('../_model_files/w2v_01_29_2_10_20_20_2.wv')\n",
    "ap_values = run_queries_ensemble(model_nn, lgb_models, model_w2v,\n",
    "                                 queryset_file,\n",
    "                                 num_candidates=NUM_CANDIDATES_1LEVEL)\n",
    "print(sum(ap_values) / len(ap_values))"
   ]
  },
  {
   "cell_type": "markdown",
   "metadata": {},
   "source": [
    "### Ансамбль на валидационных фолдах"
   ]
  },
  {
   "cell_type": "code",
   "execution_count": 6,
   "metadata": {
    "ExecuteTime": {
     "end_time": "2020-02-20T17:20:19.056336Z",
     "start_time": "2020-02-20T17:03:04.738813Z"
    },
    "scrolled": true
   },
   "outputs": [
    {
     "name": "stderr",
     "output_type": "stream",
     "text": [
      "18877it [03:23, 92.58it/s] \n",
      "9it [00:00, 86.87it/s]"
     ]
    },
    {
     "name": "stdout",
     "output_type": "stream",
     "text": [
      "../retailhero-recommender-v2/data/check_queries_02_01_4.tsv\n",
      "0.145955 \n",
      "\n"
     ]
    },
    {
     "name": "stderr",
     "output_type": "stream",
     "text": [
      "18773it [03:26, 90.99it/s] \n",
      "11it [00:00, 103.22it/s]"
     ]
    },
    {
     "name": "stdout",
     "output_type": "stream",
     "text": [
      "../retailhero-recommender-v2/data/check_queries_02_01_0.tsv\n",
      "0.142993 \n",
      "\n"
     ]
    },
    {
     "name": "stderr",
     "output_type": "stream",
     "text": [
      "18918it [03:45, 83.77it/s] \n",
      "7it [00:00, 65.08it/s]"
     ]
    },
    {
     "name": "stdout",
     "output_type": "stream",
     "text": [
      "../retailhero-recommender-v2/data/check_queries_02_01_15.tsv\n",
      "0.145122 \n",
      "\n"
     ]
    },
    {
     "name": "stderr",
     "output_type": "stream",
     "text": [
      "18883it [03:26, 91.30it/s] \n",
      "9it [00:00, 78.85it/s]"
     ]
    },
    {
     "name": "stdout",
     "output_type": "stream",
     "text": [
      "../retailhero-recommender-v2/data/check_queries_02_01_16.tsv\n",
      "0.145158 \n",
      "\n"
     ]
    },
    {
     "name": "stderr",
     "output_type": "stream",
     "text": [
      "18904it [03:11, 98.89it/s] "
     ]
    },
    {
     "name": "stdout",
     "output_type": "stream",
     "text": [
      "../retailhero-recommender-v2/data/check_queries_02_01_6.tsv\n",
      "0.145215 \n",
      "\n",
      "*********************\n",
      "Avg score: 0.144889\n",
      "CPU times: user 3h 16min 20s, sys: 10.3 s, total: 3h 16min 30s\n",
      "Wall time: 17min 14s\n"
     ]
    },
    {
     "name": "stderr",
     "output_type": "stream",
     "text": [
      "\n"
     ]
    }
   ],
   "source": [
    "%%time\n",
    "valid_chunks = [\n",
    "    '../_processed_data/client_tr_history_4.tsv', \n",
    "    '../_processed_data/client_tr_history_0.tsv',\n",
    "    '../_processed_data/client_tr_history_15.tsv', \n",
    "    '../_processed_data/client_tr_history_16.tsv', \n",
    "    '../_processed_data/client_tr_history_6.tsv'\n",
    "]\n",
    "NUM_CANDIDATES_1LEVEL = 100\n",
    "# lgb models\n",
    "lgb_models = [\n",
    "    '../_model_files/model_lgb_clsf_02_02_4_3.txt',\n",
    "    '../_model_files/model_lgb_clsf_02_02_4_4.txt',\n",
    "    '../_model_files/model_lgb_clsf_02_02_4_5.txt'\n",
    "]\n",
    "lgb_models = [lgb.Booster(model_file=lgb_file) for lgb_file in lgb_models]\n",
    "model_w2v = gensim.models.Word2Vec.load('../_model_files/w2v_01_29_2_10_20_20_2.wv')\n",
    "scores = [] \n",
    "\n",
    "for chunk_file in valid_chunks:\n",
    "    ind = chunk_file.split('_')[-1].split('.')[0]\n",
    "    valid_file_name = '../retailhero-recommender-v2/data/check_queries_02_01_{num}.tsv'.format(num=ind)\n",
    "\n",
    "    ap_values = run_queries_ensemble(model_nn, lgb_models, model_w2v,\n",
    "                                     valid_file_name,\n",
    "                                     num_candidates=NUM_CANDIDATES_1LEVEL)\n",
    "    score = sum(ap_values) / len(ap_values)\n",
    "    scores.append(score)\n",
    "    \n",
    "    print(valid_file_name)\n",
    "    print(round(score, 6), '\\n')\n",
    "\n",
    "print('*********************')\n",
    "print('Avg score:', round(np.mean(scores), 6))"
   ]
  },
  {
   "cell_type": "code",
   "execution_count": null,
   "metadata": {},
   "outputs": [],
   "source": []
  }
 ],
 "metadata": {
  "kernelspec": {
   "display_name": "Python 3",
   "language": "python",
   "name": "python3"
  },
  "language_info": {
   "codemirror_mode": {
    "name": "ipython",
    "version": 3
   },
   "file_extension": ".py",
   "mimetype": "text/x-python",
   "name": "python",
   "nbconvert_exporter": "python",
   "pygments_lexer": "ipython3",
   "version": "3.6.9"
  },
  "varInspector": {
   "cols": {
    "lenName": 16,
    "lenType": 16,
    "lenVar": 40
   },
   "kernels_config": {
    "python": {
     "delete_cmd_postfix": "",
     "delete_cmd_prefix": "del ",
     "library": "var_list.py",
     "varRefreshCmd": "print(var_dic_list())"
    },
    "r": {
     "delete_cmd_postfix": ") ",
     "delete_cmd_prefix": "rm(",
     "library": "var_list.r",
     "varRefreshCmd": "cat(var_dic_list()) "
    }
   },
   "types_to_exclude": [
    "module",
    "function",
    "builtin_function_or_method",
    "instance",
    "_Feature"
   ],
   "window_display": false
  }
 },
 "nbformat": 4,
 "nbformat_minor": 2
}
