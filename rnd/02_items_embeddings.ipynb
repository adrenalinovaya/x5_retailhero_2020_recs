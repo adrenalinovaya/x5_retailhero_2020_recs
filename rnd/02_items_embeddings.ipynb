{
 "cells": [
  {
   "cell_type": "markdown",
   "metadata": {},
   "source": [
    "# Поробуем строить ембединги по айтемам"
   ]
  },
  {
   "cell_type": "code",
   "execution_count": 1,
   "metadata": {
    "ExecuteTime": {
     "end_time": "2020-01-28T21:08:29.947562Z",
     "start_time": "2020-01-28T21:08:29.465899Z"
    }
   },
   "outputs": [],
   "source": [
    "import os\n",
    "import csv\n",
    "import json\n",
    "import random\n",
    "import pickle\n",
    "import glob\n",
    "from datetime import datetime\n",
    "from collections import defaultdict\n",
    "\n",
    "import gensim\n",
    "import numpy as np\n",
    "import pandas as pd\n",
    "import matplotlib.pyplot as plt\n",
    "from tqdm import tqdm\n",
    "\n",
    "plt.style.use('seaborn-poster')\n",
    "\n",
    "%matplotlib inline"
   ]
  },
  {
   "cell_type": "markdown",
   "metadata": {},
   "source": [
    "## Word2vec все чанки"
   ]
  },
  {
   "cell_type": "code",
   "execution_count": 2,
   "metadata": {
    "ExecuteTime": {
     "end_time": "2020-01-28T21:08:31.568308Z",
     "start_time": "2020-01-28T21:08:31.556712Z"
    }
   },
   "outputs": [],
   "source": [
    "valid_time = datetime.strptime('2019-03-01 00:00:00', '%Y-%m-%d %H:%M:%S')\n",
    "\n",
    "class TransactionDocCorpus:\n",
    "    \"\"\"\n",
    "    Iterator over all chunks\n",
    "    1 transaction = 1 document\n",
    "    \"\"\"\n",
    "    def __init__(self, chunks_path_list, valid_time):\n",
    "        self.chunks_path_list = chunks_path_list\n",
    "        self.valid_time = valid_time\n",
    "        \n",
    "    def __iter__(self):\n",
    "        for chunk_file in self.chunks_path_list:\n",
    "            print(chunk_file)\n",
    "            with open(chunk_file, 'r') as chunk:\n",
    "                for row in tqdm(chunk):\n",
    "                    client_id, transaction_history = row.split('\\t')\n",
    "                    client_id, transaction_history = json.loads(client_id), json.loads(transaction_history)\n",
    "                    tr_history = [transaction_history[tr] for tr in transaction_history\\\n",
    "                                  if datetime.strptime(\n",
    "                                    transaction_history[tr]['datetime'], '%Y-%m-%d %H:%M:%S'\n",
    "                                     ) < valid_time]\n",
    "                    sorted_transactions = sorted(tr_history, \n",
    "                                         key=lambda x: datetime.strptime(x['datetime'], '%Y-%m-%d %H:%M:%S'))\n",
    "                    for transaction in sorted_transactions:\n",
    "                        cur_products = []\n",
    "                        for pr in transaction['products']:\n",
    "                            cur_products.append(pr['product_id'])\n",
    "\n",
    "                        yield cur_products\n",
    "\n",
    "class ClientDocCorpus:\n",
    "    \"\"\"\n",
    "    Iterator over all chunks\n",
    "    1 client transaction_history = 1 document\n",
    "    \"\"\"\n",
    "    def __init__(self, chunks_path_list, valid_time):\n",
    "        self.chunks_path_list = chunks_path_list\n",
    "        self.valid_time = valid_time\n",
    "        \n",
    "    def __iter__(self):\n",
    "        for chunk_file in self.chunks_path_list:\n",
    "            print(chunk_file)\n",
    "            with open(chunk_file, 'r') as chunk:\n",
    "                for row in tqdm(chunk):\n",
    "                    client_id, transaction_history = row.split('\\t')\n",
    "                    client_id, transaction_history = json.loads(client_id), json.loads(transaction_history)\n",
    "                    \n",
    "                    tr_history = [transaction_history[tr] for tr in transaction_history\\\n",
    "                                  if datetime.strptime(\n",
    "                                    transaction_history[tr]['datetime'], '%Y-%m-%d %H:%M:%S'\n",
    "                                     ) < valid_time]\n",
    "                    sorted_transactions = sorted(tr_history, \n",
    "                                         key=lambda x: datetime.strptime(x['datetime'], '%Y-%m-%d %H:%M:%S'))\n",
    "                    cur_products = []\n",
    "                    for transaction in sorted_transactions:\n",
    "                        for pr in transaction['products']:\n",
    "                            cur_products.append(pr['product_id'])\n",
    "\n",
    "                    yield cur_products"
   ]
  },
  {
   "cell_type": "code",
   "execution_count": 3,
   "metadata": {
    "ExecuteTime": {
     "end_time": "2020-01-28T21:08:32.670974Z",
     "start_time": "2020-01-28T21:08:32.667892Z"
    }
   },
   "outputs": [],
   "source": [
    "valid_chunks = [\n",
    "    '../_processed_data/client_tr_history_4.tsv', \n",
    "    '../_processed_data/client_tr_history_0.tsv',\n",
    "    '../_processed_data/client_tr_history_15.tsv', \n",
    "    '../_processed_data/client_tr_history_16.tsv', \n",
    "    '../_processed_data/client_tr_history_6.tsv'\n",
    "]\n",
    "train_chunks = sorted(glob.glob('../_processed_data/client_tr_history_*'))\n",
    "train_chunks = [chunk for chunk in train_chunks\n",
    "                if chunk not in valid_chunks and chunk != '../_processed_data/client_tr_history_20.tsv']"
   ]
  },
  {
   "cell_type": "code",
   "execution_count": 4,
   "metadata": {
    "ExecuteTime": {
     "end_time": "2020-01-26T20:47:25.718418Z",
     "start_time": "2020-01-26T20:36:01.573279Z"
    },
    "collapsed": true
   },
   "outputs": [
    {
     "name": "stderr",
     "output_type": "stream",
     "text": [
      "280it [00:00, 2781.53it/s]"
     ]
    },
    {
     "name": "stdout",
     "output_type": "stream",
     "text": [
      "../_processed_data/client_tr_history_1.tsv\n"
     ]
    },
    {
     "name": "stderr",
     "output_type": "stream",
     "text": [
      "20000it [00:06, 3048.44it/s]\n",
      "575it [00:00, 2903.53it/s]"
     ]
    },
    {
     "name": "stdout",
     "output_type": "stream",
     "text": [
      "../_processed_data/client_tr_history_10.tsv\n"
     ]
    },
    {
     "name": "stderr",
     "output_type": "stream",
     "text": [
      "20000it [00:06, 3069.40it/s]\n",
      "595it [00:00, 2935.84it/s]"
     ]
    },
    {
     "name": "stdout",
     "output_type": "stream",
     "text": [
      "../_processed_data/client_tr_history_11.tsv\n"
     ]
    },
    {
     "name": "stderr",
     "output_type": "stream",
     "text": [
      "20000it [00:06, 3091.73it/s]\n",
      "281it [00:00, 2807.75it/s]"
     ]
    },
    {
     "name": "stdout",
     "output_type": "stream",
     "text": [
      "../_processed_data/client_tr_history_12.tsv\n"
     ]
    },
    {
     "name": "stderr",
     "output_type": "stream",
     "text": [
      "20000it [00:06, 2958.38it/s]\n",
      "296it [00:00, 2946.22it/s]"
     ]
    },
    {
     "name": "stdout",
     "output_type": "stream",
     "text": [
      "../_processed_data/client_tr_history_13.tsv\n"
     ]
    },
    {
     "name": "stderr",
     "output_type": "stream",
     "text": [
      "20000it [00:06, 2951.69it/s]\n",
      "278it [00:00, 2777.04it/s]"
     ]
    },
    {
     "name": "stdout",
     "output_type": "stream",
     "text": [
      "../_processed_data/client_tr_history_14.tsv\n"
     ]
    },
    {
     "name": "stderr",
     "output_type": "stream",
     "text": [
      "20000it [00:06, 2988.85it/s]\n",
      "315it [00:00, 3148.21it/s]"
     ]
    },
    {
     "name": "stdout",
     "output_type": "stream",
     "text": [
      "../_processed_data/client_tr_history_17.tsv\n"
     ]
    },
    {
     "name": "stderr",
     "output_type": "stream",
     "text": [
      "20000it [00:06, 3021.84it/s]\n",
      "616it [00:00, 3075.40it/s]"
     ]
    },
    {
     "name": "stdout",
     "output_type": "stream",
     "text": [
      "../_processed_data/client_tr_history_18.tsv\n"
     ]
    },
    {
     "name": "stderr",
     "output_type": "stream",
     "text": [
      "20000it [00:06, 3035.32it/s]\n",
      "315it [00:00, 3136.57it/s]"
     ]
    },
    {
     "name": "stdout",
     "output_type": "stream",
     "text": [
      "../_processed_data/client_tr_history_19.tsv\n"
     ]
    },
    {
     "name": "stderr",
     "output_type": "stream",
     "text": [
      "20000it [00:06, 3032.06it/s]\n",
      "637it [00:00, 3083.74it/s]"
     ]
    },
    {
     "name": "stdout",
     "output_type": "stream",
     "text": [
      "../_processed_data/client_tr_history_2.tsv\n"
     ]
    },
    {
     "name": "stderr",
     "output_type": "stream",
     "text": [
      "20000it [00:06, 3027.86it/s]\n",
      "301it [00:00, 3007.53it/s]"
     ]
    },
    {
     "name": "stdout",
     "output_type": "stream",
     "text": [
      "../_processed_data/client_tr_history_3.tsv\n"
     ]
    },
    {
     "name": "stderr",
     "output_type": "stream",
     "text": [
      "20000it [00:06, 3014.24it/s]\n",
      "597it [00:00, 2840.51it/s]"
     ]
    },
    {
     "name": "stdout",
     "output_type": "stream",
     "text": [
      "../_processed_data/client_tr_history_5.tsv\n"
     ]
    },
    {
     "name": "stderr",
     "output_type": "stream",
     "text": [
      "20000it [00:06, 3012.25it/s]\n",
      "314it [00:00, 3139.79it/s]"
     ]
    },
    {
     "name": "stdout",
     "output_type": "stream",
     "text": [
      "../_processed_data/client_tr_history_7.tsv\n"
     ]
    },
    {
     "name": "stderr",
     "output_type": "stream",
     "text": [
      "20000it [00:06, 3017.94it/s]\n",
      "598it [00:00, 3008.11it/s]"
     ]
    },
    {
     "name": "stdout",
     "output_type": "stream",
     "text": [
      "../_processed_data/client_tr_history_8.tsv\n"
     ]
    },
    {
     "name": "stderr",
     "output_type": "stream",
     "text": [
      "20000it [00:06, 3096.09it/s]\n",
      "332it [00:00, 3318.87it/s]"
     ]
    },
    {
     "name": "stdout",
     "output_type": "stream",
     "text": [
      "../_processed_data/client_tr_history_9.tsv\n"
     ]
    },
    {
     "name": "stderr",
     "output_type": "stream",
     "text": [
      "20000it [00:06, 3147.49it/s]\n",
      "280it [00:00, 2724.12it/s]"
     ]
    },
    {
     "name": "stdout",
     "output_type": "stream",
     "text": [
      "../_processed_data/client_tr_history_1.tsv\n"
     ]
    },
    {
     "name": "stderr",
     "output_type": "stream",
     "text": [
      "20000it [00:07, 2660.73it/s]\n",
      "288it [00:00, 2879.60it/s]"
     ]
    },
    {
     "name": "stdout",
     "output_type": "stream",
     "text": [
      "../_processed_data/client_tr_history_10.tsv\n"
     ]
    },
    {
     "name": "stderr",
     "output_type": "stream",
     "text": [
      "20000it [00:07, 2608.20it/s]\n",
      "242it [00:00, 2068.88it/s]"
     ]
    },
    {
     "name": "stdout",
     "output_type": "stream",
     "text": [
      "../_processed_data/client_tr_history_11.tsv\n"
     ]
    },
    {
     "name": "stderr",
     "output_type": "stream",
     "text": [
      "20000it [00:07, 2644.33it/s]\n",
      "520it [00:00, 2601.64it/s]"
     ]
    },
    {
     "name": "stdout",
     "output_type": "stream",
     "text": [
      "../_processed_data/client_tr_history_12.tsv\n"
     ]
    },
    {
     "name": "stderr",
     "output_type": "stream",
     "text": [
      "20000it [00:07, 2628.34it/s]\n",
      "258it [00:00, 2575.72it/s]"
     ]
    },
    {
     "name": "stdout",
     "output_type": "stream",
     "text": [
      "../_processed_data/client_tr_history_13.tsv\n"
     ]
    },
    {
     "name": "stderr",
     "output_type": "stream",
     "text": [
      "20000it [00:07, 2621.69it/s]\n",
      "307it [00:00, 3063.14it/s]"
     ]
    },
    {
     "name": "stdout",
     "output_type": "stream",
     "text": [
      "../_processed_data/client_tr_history_14.tsv\n"
     ]
    },
    {
     "name": "stderr",
     "output_type": "stream",
     "text": [
      "20000it [00:07, 2690.61it/s]\n",
      "320it [00:00, 3194.42it/s]"
     ]
    },
    {
     "name": "stdout",
     "output_type": "stream",
     "text": [
      "../_processed_data/client_tr_history_17.tsv\n"
     ]
    },
    {
     "name": "stderr",
     "output_type": "stream",
     "text": [
      "20000it [00:07, 2666.84it/s]\n",
      "292it [00:00, 2906.12it/s]"
     ]
    },
    {
     "name": "stdout",
     "output_type": "stream",
     "text": [
      "../_processed_data/client_tr_history_18.tsv\n"
     ]
    },
    {
     "name": "stderr",
     "output_type": "stream",
     "text": [
      "20000it [00:07, 2638.51it/s]\n",
      "525it [00:00, 2698.83it/s]"
     ]
    },
    {
     "name": "stdout",
     "output_type": "stream",
     "text": [
      "../_processed_data/client_tr_history_19.tsv\n"
     ]
    },
    {
     "name": "stderr",
     "output_type": "stream",
     "text": [
      "20000it [00:07, 2617.57it/s]\n",
      "274it [00:00, 2731.48it/s]"
     ]
    },
    {
     "name": "stdout",
     "output_type": "stream",
     "text": [
      "../_processed_data/client_tr_history_2.tsv\n"
     ]
    },
    {
     "name": "stderr",
     "output_type": "stream",
     "text": [
      "20000it [00:07, 2609.64it/s]\n",
      "260it [00:00, 2596.78it/s]"
     ]
    },
    {
     "name": "stdout",
     "output_type": "stream",
     "text": [
      "../_processed_data/client_tr_history_3.tsv\n"
     ]
    },
    {
     "name": "stderr",
     "output_type": "stream",
     "text": [
      "20000it [00:07, 2598.96it/s]\n",
      "251it [00:00, 2508.83it/s]"
     ]
    },
    {
     "name": "stdout",
     "output_type": "stream",
     "text": [
      "../_processed_data/client_tr_history_5.tsv\n"
     ]
    },
    {
     "name": "stderr",
     "output_type": "stream",
     "text": [
      "20000it [00:07, 2574.90it/s]\n",
      "279it [00:00, 2784.86it/s]"
     ]
    },
    {
     "name": "stdout",
     "output_type": "stream",
     "text": [
      "../_processed_data/client_tr_history_7.tsv\n"
     ]
    },
    {
     "name": "stderr",
     "output_type": "stream",
     "text": [
      "20000it [00:07, 2579.01it/s]\n",
      "262it [00:00, 2618.43it/s]"
     ]
    },
    {
     "name": "stdout",
     "output_type": "stream",
     "text": [
      "../_processed_data/client_tr_history_8.tsv\n"
     ]
    },
    {
     "name": "stderr",
     "output_type": "stream",
     "text": [
      "20000it [00:07, 2565.83it/s]\n",
      "300it [00:00, 2998.63it/s]"
     ]
    },
    {
     "name": "stdout",
     "output_type": "stream",
     "text": [
      "../_processed_data/client_tr_history_9.tsv\n"
     ]
    },
    {
     "name": "stderr",
     "output_type": "stream",
     "text": [
      "20000it [00:07, 2612.45it/s]\n",
      "281it [00:00, 2797.36it/s]"
     ]
    },
    {
     "name": "stdout",
     "output_type": "stream",
     "text": [
      "../_processed_data/client_tr_history_1.tsv\n"
     ]
    },
    {
     "name": "stderr",
     "output_type": "stream",
     "text": [
      "20000it [00:07, 2621.40it/s]\n",
      "277it [00:00, 2767.42it/s]"
     ]
    },
    {
     "name": "stdout",
     "output_type": "stream",
     "text": [
      "../_processed_data/client_tr_history_10.tsv\n"
     ]
    },
    {
     "name": "stderr",
     "output_type": "stream",
     "text": [
      "20000it [00:07, 2579.59it/s]\n",
      "265it [00:00, 2618.24it/s]"
     ]
    },
    {
     "name": "stdout",
     "output_type": "stream",
     "text": [
      "../_processed_data/client_tr_history_11.tsv\n"
     ]
    },
    {
     "name": "stderr",
     "output_type": "stream",
     "text": [
      "20000it [00:07, 2600.12it/s]\n",
      "261it [00:00, 2598.10it/s]"
     ]
    },
    {
     "name": "stdout",
     "output_type": "stream",
     "text": [
      "../_processed_data/client_tr_history_12.tsv\n"
     ]
    },
    {
     "name": "stderr",
     "output_type": "stream",
     "text": [
      "20000it [00:07, 2578.53it/s]\n",
      "229it [00:00, 2026.99it/s]"
     ]
    },
    {
     "name": "stdout",
     "output_type": "stream",
     "text": [
      "../_processed_data/client_tr_history_13.tsv\n"
     ]
    },
    {
     "name": "stderr",
     "output_type": "stream",
     "text": [
      "20000it [00:07, 2602.36it/s]\n",
      "302it [00:00, 3011.77it/s]"
     ]
    },
    {
     "name": "stdout",
     "output_type": "stream",
     "text": [
      "../_processed_data/client_tr_history_14.tsv\n"
     ]
    },
    {
     "name": "stderr",
     "output_type": "stream",
     "text": [
      "20000it [00:07, 2618.98it/s]\n",
      "281it [00:00, 2805.53it/s]"
     ]
    },
    {
     "name": "stdout",
     "output_type": "stream",
     "text": [
      "../_processed_data/client_tr_history_17.tsv\n"
     ]
    },
    {
     "name": "stderr",
     "output_type": "stream",
     "text": [
      "20000it [00:07, 2632.03it/s]\n",
      "299it [00:00, 2968.53it/s]"
     ]
    },
    {
     "name": "stdout",
     "output_type": "stream",
     "text": [
      "../_processed_data/client_tr_history_18.tsv\n"
     ]
    },
    {
     "name": "stderr",
     "output_type": "stream",
     "text": [
      "20000it [00:07, 2653.65it/s]\n",
      "297it [00:00, 2966.77it/s]"
     ]
    },
    {
     "name": "stdout",
     "output_type": "stream",
     "text": [
      "../_processed_data/client_tr_history_19.tsv\n"
     ]
    },
    {
     "name": "stderr",
     "output_type": "stream",
     "text": [
      "20000it [00:07, 2652.49it/s]\n",
      "283it [00:00, 2820.94it/s]"
     ]
    },
    {
     "name": "stdout",
     "output_type": "stream",
     "text": [
      "../_processed_data/client_tr_history_2.tsv\n"
     ]
    },
    {
     "name": "stderr",
     "output_type": "stream",
     "text": [
      "20000it [00:07, 2635.01it/s]\n",
      "499it [00:00, 2406.82it/s]"
     ]
    },
    {
     "name": "stdout",
     "output_type": "stream",
     "text": [
      "../_processed_data/client_tr_history_3.tsv\n"
     ]
    },
    {
     "name": "stderr",
     "output_type": "stream",
     "text": [
      "20000it [00:07, 2573.57it/s]\n",
      "225it [00:00, 2240.55it/s]"
     ]
    },
    {
     "name": "stdout",
     "output_type": "stream",
     "text": [
      "../_processed_data/client_tr_history_5.tsv\n"
     ]
    },
    {
     "name": "stderr",
     "output_type": "stream",
     "text": [
      "20000it [00:07, 2560.31it/s]\n",
      "273it [00:00, 2728.88it/s]"
     ]
    },
    {
     "name": "stdout",
     "output_type": "stream",
     "text": [
      "../_processed_data/client_tr_history_7.tsv\n"
     ]
    },
    {
     "name": "stderr",
     "output_type": "stream",
     "text": [
      "20000it [00:07, 2525.30it/s]\n",
      "278it [00:00, 2772.14it/s]"
     ]
    },
    {
     "name": "stdout",
     "output_type": "stream",
     "text": [
      "../_processed_data/client_tr_history_8.tsv\n"
     ]
    },
    {
     "name": "stderr",
     "output_type": "stream",
     "text": [
      "20000it [00:07, 2595.47it/s]\n",
      "277it [00:00, 2766.43it/s]"
     ]
    },
    {
     "name": "stdout",
     "output_type": "stream",
     "text": [
      "../_processed_data/client_tr_history_9.tsv\n"
     ]
    },
    {
     "name": "stderr",
     "output_type": "stream",
     "text": [
      "20000it [00:07, 2659.72it/s]\n",
      "508it [00:00, 2421.76it/s]"
     ]
    },
    {
     "name": "stdout",
     "output_type": "stream",
     "text": [
      "../_processed_data/client_tr_history_1.tsv\n"
     ]
    },
    {
     "name": "stderr",
     "output_type": "stream",
     "text": [
      "20000it [00:07, 2619.84it/s]\n",
      "264it [00:00, 2638.74it/s]"
     ]
    },
    {
     "name": "stdout",
     "output_type": "stream",
     "text": [
      "../_processed_data/client_tr_history_10.tsv\n"
     ]
    },
    {
     "name": "stderr",
     "output_type": "stream",
     "text": [
      "20000it [00:07, 2577.16it/s]\n",
      "252it [00:00, 2518.17it/s]"
     ]
    },
    {
     "name": "stdout",
     "output_type": "stream",
     "text": [
      "../_processed_data/client_tr_history_11.tsv\n"
     ]
    },
    {
     "name": "stderr",
     "output_type": "stream",
     "text": [
      "20000it [00:07, 2503.19it/s]\n",
      "259it [00:00, 2586.23it/s]"
     ]
    },
    {
     "name": "stdout",
     "output_type": "stream",
     "text": [
      "../_processed_data/client_tr_history_12.tsv\n"
     ]
    },
    {
     "name": "stderr",
     "output_type": "stream",
     "text": [
      "20000it [00:07, 2543.85it/s]\n",
      "296it [00:00, 2944.17it/s]"
     ]
    },
    {
     "name": "stdout",
     "output_type": "stream",
     "text": [
      "../_processed_data/client_tr_history_13.tsv\n"
     ]
    },
    {
     "name": "stderr",
     "output_type": "stream",
     "text": [
      "20000it [00:07, 2542.28it/s]\n",
      "250it [00:00, 2494.65it/s]"
     ]
    },
    {
     "name": "stdout",
     "output_type": "stream",
     "text": [
      "../_processed_data/client_tr_history_14.tsv\n"
     ]
    },
    {
     "name": "stderr",
     "output_type": "stream",
     "text": [
      "20000it [00:07, 2616.91it/s]\n",
      "297it [00:00, 2955.81it/s]"
     ]
    },
    {
     "name": "stdout",
     "output_type": "stream",
     "text": [
      "../_processed_data/client_tr_history_17.tsv\n"
     ]
    },
    {
     "name": "stderr",
     "output_type": "stream",
     "text": [
      "20000it [00:07, 2543.16it/s]\n",
      "294it [00:00, 2933.06it/s]"
     ]
    },
    {
     "name": "stdout",
     "output_type": "stream",
     "text": [
      "../_processed_data/client_tr_history_18.tsv\n"
     ]
    },
    {
     "name": "stderr",
     "output_type": "stream",
     "text": [
      "20000it [00:07, 2575.18it/s]\n",
      "294it [00:00, 2935.79it/s]"
     ]
    },
    {
     "name": "stdout",
     "output_type": "stream",
     "text": [
      "../_processed_data/client_tr_history_19.tsv\n"
     ]
    },
    {
     "name": "stderr",
     "output_type": "stream",
     "text": [
      "20000it [00:07, 2517.19it/s]\n",
      "263it [00:00, 2583.06it/s]"
     ]
    },
    {
     "name": "stdout",
     "output_type": "stream",
     "text": [
      "../_processed_data/client_tr_history_2.tsv\n"
     ]
    },
    {
     "name": "stderr",
     "output_type": "stream",
     "text": [
      "20000it [00:07, 2563.18it/s]\n",
      "283it [00:00, 2827.51it/s]"
     ]
    },
    {
     "name": "stdout",
     "output_type": "stream",
     "text": [
      "../_processed_data/client_tr_history_3.tsv\n"
     ]
    },
    {
     "name": "stderr",
     "output_type": "stream",
     "text": [
      "20000it [00:07, 2588.17it/s]\n",
      "228it [00:00, 2276.65it/s]"
     ]
    },
    {
     "name": "stdout",
     "output_type": "stream",
     "text": [
      "../_processed_data/client_tr_history_5.tsv\n"
     ]
    },
    {
     "name": "stderr",
     "output_type": "stream",
     "text": [
      "20000it [00:07, 2595.65it/s]\n",
      "303it [00:00, 3028.50it/s]"
     ]
    },
    {
     "name": "stdout",
     "output_type": "stream",
     "text": [
      "../_processed_data/client_tr_history_7.tsv\n"
     ]
    },
    {
     "name": "stderr",
     "output_type": "stream",
     "text": [
      "20000it [00:07, 2595.37it/s]\n",
      "266it [00:00, 2657.58it/s]"
     ]
    },
    {
     "name": "stdout",
     "output_type": "stream",
     "text": [
      "../_processed_data/client_tr_history_8.tsv\n"
     ]
    },
    {
     "name": "stderr",
     "output_type": "stream",
     "text": [
      "20000it [00:07, 2596.35it/s]\n",
      "311it [00:00, 3102.69it/s]"
     ]
    },
    {
     "name": "stdout",
     "output_type": "stream",
     "text": [
      "../_processed_data/client_tr_history_9.tsv\n"
     ]
    },
    {
     "name": "stderr",
     "output_type": "stream",
     "text": [
      "20000it [00:07, 2663.51it/s]\n",
      "257it [00:00, 2560.05it/s]"
     ]
    },
    {
     "name": "stdout",
     "output_type": "stream",
     "text": [
      "../_processed_data/client_tr_history_1.tsv\n"
     ]
    },
    {
     "name": "stderr",
     "output_type": "stream",
     "text": [
      "20000it [00:07, 2619.09it/s]\n",
      "241it [00:00, 2406.31it/s]"
     ]
    },
    {
     "name": "stdout",
     "output_type": "stream",
     "text": [
      "../_processed_data/client_tr_history_10.tsv\n"
     ]
    },
    {
     "name": "stderr",
     "output_type": "stream",
     "text": [
      "20000it [00:07, 2567.48it/s]\n",
      "251it [00:00, 2501.65it/s]"
     ]
    },
    {
     "name": "stdout",
     "output_type": "stream",
     "text": [
      "../_processed_data/client_tr_history_11.tsv\n"
     ]
    },
    {
     "name": "stderr",
     "output_type": "stream",
     "text": [
      "20000it [00:07, 2609.87it/s]\n",
      "245it [00:00, 2443.46it/s]"
     ]
    },
    {
     "name": "stdout",
     "output_type": "stream",
     "text": [
      "../_processed_data/client_tr_history_12.tsv\n"
     ]
    },
    {
     "name": "stderr",
     "output_type": "stream",
     "text": [
      "20000it [00:07, 2544.00it/s]\n",
      "287it [00:00, 2822.31it/s]"
     ]
    },
    {
     "name": "stdout",
     "output_type": "stream",
     "text": [
      "../_processed_data/client_tr_history_13.tsv\n"
     ]
    },
    {
     "name": "stderr",
     "output_type": "stream",
     "text": [
      "20000it [00:08, 2497.96it/s]\n",
      "292it [00:00, 2912.63it/s]"
     ]
    },
    {
     "name": "stdout",
     "output_type": "stream",
     "text": [
      "../_processed_data/client_tr_history_14.tsv\n"
     ]
    },
    {
     "name": "stderr",
     "output_type": "stream",
     "text": [
      "20000it [00:07, 2548.56it/s]\n",
      "200it [00:00, 1992.75it/s]"
     ]
    },
    {
     "name": "stdout",
     "output_type": "stream",
     "text": [
      "../_processed_data/client_tr_history_17.tsv\n"
     ]
    },
    {
     "name": "stderr",
     "output_type": "stream",
     "text": [
      "20000it [00:07, 2517.84it/s]\n",
      "233it [00:00, 2321.31it/s]"
     ]
    },
    {
     "name": "stdout",
     "output_type": "stream",
     "text": [
      "../_processed_data/client_tr_history_18.tsv\n"
     ]
    },
    {
     "name": "stderr",
     "output_type": "stream",
     "text": [
      "20000it [00:07, 2554.90it/s]\n",
      "256it [00:00, 2554.96it/s]"
     ]
    },
    {
     "name": "stdout",
     "output_type": "stream",
     "text": [
      "../_processed_data/client_tr_history_19.tsv\n"
     ]
    },
    {
     "name": "stderr",
     "output_type": "stream",
     "text": [
      "20000it [00:07, 2522.04it/s]\n",
      "265it [00:00, 2629.96it/s]"
     ]
    },
    {
     "name": "stdout",
     "output_type": "stream",
     "text": [
      "../_processed_data/client_tr_history_2.tsv\n"
     ]
    },
    {
     "name": "stderr",
     "output_type": "stream",
     "text": [
      "20000it [00:07, 2528.89it/s]\n",
      "284it [00:00, 2834.02it/s]"
     ]
    },
    {
     "name": "stdout",
     "output_type": "stream",
     "text": [
      "../_processed_data/client_tr_history_3.tsv\n"
     ]
    },
    {
     "name": "stderr",
     "output_type": "stream",
     "text": [
      "20000it [00:07, 2541.12it/s]\n",
      "227it [00:00, 2268.36it/s]"
     ]
    },
    {
     "name": "stdout",
     "output_type": "stream",
     "text": [
      "../_processed_data/client_tr_history_5.tsv\n"
     ]
    },
    {
     "name": "stderr",
     "output_type": "stream",
     "text": [
      "20000it [00:07, 2564.81it/s]\n",
      "275it [00:00, 2692.62it/s]"
     ]
    },
    {
     "name": "stdout",
     "output_type": "stream",
     "text": [
      "../_processed_data/client_tr_history_7.tsv\n"
     ]
    },
    {
     "name": "stderr",
     "output_type": "stream",
     "text": [
      "20000it [00:07, 2587.42it/s]\n",
      "254it [00:00, 2533.11it/s]"
     ]
    },
    {
     "name": "stdout",
     "output_type": "stream",
     "text": [
      "../_processed_data/client_tr_history_8.tsv\n"
     ]
    },
    {
     "name": "stderr",
     "output_type": "stream",
     "text": [
      "20000it [00:07, 2505.93it/s]\n",
      "283it [00:00, 2823.39it/s]"
     ]
    },
    {
     "name": "stdout",
     "output_type": "stream",
     "text": [
      "../_processed_data/client_tr_history_9.tsv\n"
     ]
    },
    {
     "name": "stderr",
     "output_type": "stream",
     "text": [
      "20000it [00:07, 2580.34it/s]\n",
      "499it [00:00, 2554.84it/s]"
     ]
    },
    {
     "name": "stdout",
     "output_type": "stream",
     "text": [
      "../_processed_data/client_tr_history_1.tsv\n"
     ]
    },
    {
     "name": "stderr",
     "output_type": "stream",
     "text": [
      "20000it [00:07, 2609.76it/s]\n",
      "295it [00:00, 2944.65it/s]"
     ]
    },
    {
     "name": "stdout",
     "output_type": "stream",
     "text": [
      "../_processed_data/client_tr_history_10.tsv\n"
     ]
    },
    {
     "name": "stderr",
     "output_type": "stream",
     "text": [
      "20000it [00:07, 2545.74it/s]\n",
      "255it [00:00, 2521.78it/s]"
     ]
    },
    {
     "name": "stdout",
     "output_type": "stream",
     "text": [
      "../_processed_data/client_tr_history_11.tsv\n"
     ]
    },
    {
     "name": "stderr",
     "output_type": "stream",
     "text": [
      "20000it [00:07, 2579.03it/s]\n",
      "264it [00:00, 2637.51it/s]"
     ]
    },
    {
     "name": "stdout",
     "output_type": "stream",
     "text": [
      "../_processed_data/client_tr_history_12.tsv\n"
     ]
    },
    {
     "name": "stderr",
     "output_type": "stream",
     "text": [
      "20000it [00:07, 2569.13it/s]\n",
      "524it [00:00, 2572.91it/s]"
     ]
    },
    {
     "name": "stdout",
     "output_type": "stream",
     "text": [
      "../_processed_data/client_tr_history_13.tsv\n"
     ]
    },
    {
     "name": "stderr",
     "output_type": "stream",
     "text": [
      "20000it [00:07, 2531.37it/s]\n",
      "287it [00:00, 2861.61it/s]"
     ]
    },
    {
     "name": "stdout",
     "output_type": "stream",
     "text": [
      "../_processed_data/client_tr_history_14.tsv\n"
     ]
    },
    {
     "name": "stderr",
     "output_type": "stream",
     "text": [
      "20000it [00:07, 2561.84it/s]\n",
      "283it [00:00, 2828.36it/s]"
     ]
    },
    {
     "name": "stdout",
     "output_type": "stream",
     "text": [
      "../_processed_data/client_tr_history_17.tsv\n"
     ]
    },
    {
     "name": "stderr",
     "output_type": "stream",
     "text": [
      "20000it [00:07, 2551.29it/s]\n",
      "206it [00:00, 2058.17it/s]"
     ]
    },
    {
     "name": "stdout",
     "output_type": "stream",
     "text": [
      "../_processed_data/client_tr_history_18.tsv\n"
     ]
    },
    {
     "name": "stderr",
     "output_type": "stream",
     "text": [
      "20000it [00:07, 2575.27it/s]\n",
      "265it [00:00, 2649.08it/s]"
     ]
    },
    {
     "name": "stdout",
     "output_type": "stream",
     "text": [
      "../_processed_data/client_tr_history_19.tsv\n"
     ]
    },
    {
     "name": "stderr",
     "output_type": "stream",
     "text": [
      "20000it [00:07, 2544.29it/s]\n",
      "283it [00:00, 2803.86it/s]"
     ]
    },
    {
     "name": "stdout",
     "output_type": "stream",
     "text": [
      "../_processed_data/client_tr_history_2.tsv\n"
     ]
    },
    {
     "name": "stderr",
     "output_type": "stream",
     "text": [
      "20000it [00:07, 2574.83it/s]\n",
      "197it [00:00, 1965.61it/s]"
     ]
    },
    {
     "name": "stdout",
     "output_type": "stream",
     "text": [
      "../_processed_data/client_tr_history_3.tsv\n"
     ]
    },
    {
     "name": "stderr",
     "output_type": "stream",
     "text": [
      "20000it [00:07, 2572.17it/s]\n",
      "235it [00:00, 2346.25it/s]"
     ]
    },
    {
     "name": "stdout",
     "output_type": "stream",
     "text": [
      "../_processed_data/client_tr_history_5.tsv\n"
     ]
    },
    {
     "name": "stderr",
     "output_type": "stream",
     "text": [
      "20000it [00:07, 2567.50it/s]\n",
      "266it [00:00, 2652.78it/s]"
     ]
    },
    {
     "name": "stdout",
     "output_type": "stream",
     "text": [
      "../_processed_data/client_tr_history_7.tsv\n"
     ]
    },
    {
     "name": "stderr",
     "output_type": "stream",
     "text": [
      "20000it [00:07, 2616.77it/s]\n",
      "279it [00:00, 2774.24it/s]"
     ]
    },
    {
     "name": "stdout",
     "output_type": "stream",
     "text": [
      "../_processed_data/client_tr_history_8.tsv\n"
     ]
    },
    {
     "name": "stderr",
     "output_type": "stream",
     "text": [
      "20000it [00:07, 2625.67it/s]\n",
      "595it [00:00, 2970.84it/s]"
     ]
    },
    {
     "name": "stdout",
     "output_type": "stream",
     "text": [
      "../_processed_data/client_tr_history_9.tsv\n"
     ]
    },
    {
     "name": "stderr",
     "output_type": "stream",
     "text": [
      "20000it [00:07, 2650.38it/s]"
     ]
    },
    {
     "name": "stdout",
     "output_type": "stream",
     "text": [
      "CPU times: user 14min 39s, sys: 8.79 s, total: 14min 48s\n",
      "Wall time: 11min 24s\n"
     ]
    },
    {
     "name": "stderr",
     "output_type": "stream",
     "text": [
      "\n"
     ]
    }
   ],
   "source": [
    "%%time\n",
    "transaction_level = TransactionDocCorpus(train_chunks, valid_time)\n",
    "model1 = gensim.models.Word2Vec(sentences=transaction_level, seed=42, workers=8, iter=5,\n",
    "                                size=50, window=10, min_count=2)"
   ]
  },
  {
   "cell_type": "code",
   "execution_count": 5,
   "metadata": {
    "ExecuteTime": {
     "end_time": "2020-01-26T20:53:09.180664Z",
     "start_time": "2020-01-26T20:53:09.032696Z"
    }
   },
   "outputs": [],
   "source": [
    "model1.save('../_model_files/w2v_01_26_1.wv')"
   ]
  },
  {
   "cell_type": "code",
   "execution_count": 6,
   "metadata": {
    "ExecuteTime": {
     "end_time": "2020-01-26T21:10:37.256931Z",
     "start_time": "2020-01-26T20:56:17.783141Z"
    },
    "collapsed": true
   },
   "outputs": [
    {
     "name": "stderr",
     "output_type": "stream",
     "text": [
      "273it [00:00, 2721.11it/s]"
     ]
    },
    {
     "name": "stdout",
     "output_type": "stream",
     "text": [
      "../_processed_data/client_tr_history_1.tsv\n"
     ]
    },
    {
     "name": "stderr",
     "output_type": "stream",
     "text": [
      "20000it [00:06, 3041.85it/s]\n",
      "303it [00:00, 3015.09it/s]"
     ]
    },
    {
     "name": "stdout",
     "output_type": "stream",
     "text": [
      "../_processed_data/client_tr_history_10.tsv\n"
     ]
    },
    {
     "name": "stderr",
     "output_type": "stream",
     "text": [
      "20000it [00:06, 3035.45it/s]\n",
      "588it [00:00, 2913.85it/s]"
     ]
    },
    {
     "name": "stdout",
     "output_type": "stream",
     "text": [
      "../_processed_data/client_tr_history_11.tsv\n"
     ]
    },
    {
     "name": "stderr",
     "output_type": "stream",
     "text": [
      "20000it [00:06, 3062.34it/s]\n",
      "592it [00:00, 2924.08it/s]"
     ]
    },
    {
     "name": "stdout",
     "output_type": "stream",
     "text": [
      "../_processed_data/client_tr_history_12.tsv\n"
     ]
    },
    {
     "name": "stderr",
     "output_type": "stream",
     "text": [
      "20000it [00:06, 3032.24it/s]\n",
      "317it [00:00, 3169.48it/s]"
     ]
    },
    {
     "name": "stdout",
     "output_type": "stream",
     "text": [
      "../_processed_data/client_tr_history_13.tsv\n"
     ]
    },
    {
     "name": "stderr",
     "output_type": "stream",
     "text": [
      "20000it [00:06, 3031.93it/s]\n",
      "623it [00:00, 3129.90it/s]"
     ]
    },
    {
     "name": "stdout",
     "output_type": "stream",
     "text": [
      "../_processed_data/client_tr_history_14.tsv\n"
     ]
    },
    {
     "name": "stderr",
     "output_type": "stream",
     "text": [
      "20000it [00:06, 3077.35it/s]\n",
      "632it [00:00, 3176.49it/s]"
     ]
    },
    {
     "name": "stdout",
     "output_type": "stream",
     "text": [
      "../_processed_data/client_tr_history_17.tsv\n"
     ]
    },
    {
     "name": "stderr",
     "output_type": "stream",
     "text": [
      "20000it [00:06, 3053.80it/s]\n",
      "319it [00:00, 3183.51it/s]"
     ]
    },
    {
     "name": "stdout",
     "output_type": "stream",
     "text": [
      "../_processed_data/client_tr_history_18.tsv\n"
     ]
    },
    {
     "name": "stderr",
     "output_type": "stream",
     "text": [
      "20000it [00:06, 3106.28it/s]\n",
      "632it [00:00, 3131.50it/s]"
     ]
    },
    {
     "name": "stdout",
     "output_type": "stream",
     "text": [
      "../_processed_data/client_tr_history_19.tsv\n"
     ]
    },
    {
     "name": "stderr",
     "output_type": "stream",
     "text": [
      "20000it [00:06, 3106.07it/s]\n",
      "653it [00:00, 3198.81it/s]"
     ]
    },
    {
     "name": "stdout",
     "output_type": "stream",
     "text": [
      "../_processed_data/client_tr_history_2.tsv\n"
     ]
    },
    {
     "name": "stderr",
     "output_type": "stream",
     "text": [
      "20000it [00:06, 3088.24it/s]\n",
      "624it [00:00, 3095.37it/s]"
     ]
    },
    {
     "name": "stdout",
     "output_type": "stream",
     "text": [
      "../_processed_data/client_tr_history_3.tsv\n"
     ]
    },
    {
     "name": "stderr",
     "output_type": "stream",
     "text": [
      "20000it [00:06, 3085.36it/s]\n",
      "593it [00:00, 2854.07it/s]"
     ]
    },
    {
     "name": "stdout",
     "output_type": "stream",
     "text": [
      "../_processed_data/client_tr_history_5.tsv\n"
     ]
    },
    {
     "name": "stderr",
     "output_type": "stream",
     "text": [
      "20000it [00:06, 3053.93it/s]\n",
      "638it [00:00, 3201.88it/s]"
     ]
    },
    {
     "name": "stdout",
     "output_type": "stream",
     "text": [
      "../_processed_data/client_tr_history_7.tsv\n"
     ]
    },
    {
     "name": "stderr",
     "output_type": "stream",
     "text": [
      "20000it [00:06, 3068.24it/s]\n",
      "587it [00:00, 2936.26it/s]"
     ]
    },
    {
     "name": "stdout",
     "output_type": "stream",
     "text": [
      "../_processed_data/client_tr_history_8.tsv\n"
     ]
    },
    {
     "name": "stderr",
     "output_type": "stream",
     "text": [
      "20000it [00:06, 3058.45it/s]\n",
      "653it [00:00, 3266.15it/s]"
     ]
    },
    {
     "name": "stdout",
     "output_type": "stream",
     "text": [
      "../_processed_data/client_tr_history_9.tsv\n"
     ]
    },
    {
     "name": "stderr",
     "output_type": "stream",
     "text": [
      "20000it [00:06, 3075.42it/s]\n",
      "268it [00:00, 2662.90it/s]"
     ]
    },
    {
     "name": "stdout",
     "output_type": "stream",
     "text": [
      "../_processed_data/client_tr_history_1.tsv\n"
     ]
    },
    {
     "name": "stderr",
     "output_type": "stream",
     "text": [
      "20000it [00:07, 2769.84it/s]\n",
      "261it [00:00, 2608.52it/s]"
     ]
    },
    {
     "name": "stdout",
     "output_type": "stream",
     "text": [
      "../_processed_data/client_tr_history_10.tsv\n"
     ]
    },
    {
     "name": "stderr",
     "output_type": "stream",
     "text": [
      "20000it [00:07, 2775.38it/s]\n",
      "248it [00:00, 2478.53it/s]"
     ]
    },
    {
     "name": "stdout",
     "output_type": "stream",
     "text": [
      "../_processed_data/client_tr_history_11.tsv\n"
     ]
    },
    {
     "name": "stderr",
     "output_type": "stream",
     "text": [
      "20000it [00:07, 2821.70it/s]\n",
      "280it [00:00, 2789.22it/s]"
     ]
    },
    {
     "name": "stdout",
     "output_type": "stream",
     "text": [
      "../_processed_data/client_tr_history_12.tsv\n"
     ]
    },
    {
     "name": "stderr",
     "output_type": "stream",
     "text": [
      "20000it [00:07, 2804.87it/s]\n",
      "265it [00:00, 2640.17it/s]"
     ]
    },
    {
     "name": "stdout",
     "output_type": "stream",
     "text": [
      "../_processed_data/client_tr_history_13.tsv\n"
     ]
    },
    {
     "name": "stderr",
     "output_type": "stream",
     "text": [
      "20000it [00:07, 2764.72it/s]\n",
      "250it [00:00, 2479.74it/s]"
     ]
    },
    {
     "name": "stdout",
     "output_type": "stream",
     "text": [
      "../_processed_data/client_tr_history_14.tsv\n"
     ]
    },
    {
     "name": "stderr",
     "output_type": "stream",
     "text": [
      "20000it [00:07, 2834.55it/s]\n",
      "286it [00:00, 2846.48it/s]"
     ]
    },
    {
     "name": "stdout",
     "output_type": "stream",
     "text": [
      "../_processed_data/client_tr_history_17.tsv\n"
     ]
    },
    {
     "name": "stderr",
     "output_type": "stream",
     "text": [
      "20000it [00:07, 2785.66it/s]\n",
      "296it [00:00, 2956.86it/s]"
     ]
    },
    {
     "name": "stdout",
     "output_type": "stream",
     "text": [
      "../_processed_data/client_tr_history_18.tsv\n"
     ]
    },
    {
     "name": "stderr",
     "output_type": "stream",
     "text": [
      "20000it [00:07, 2792.45it/s]\n",
      "290it [00:00, 2894.95it/s]"
     ]
    },
    {
     "name": "stdout",
     "output_type": "stream",
     "text": [
      "../_processed_data/client_tr_history_19.tsv\n"
     ]
    },
    {
     "name": "stderr",
     "output_type": "stream",
     "text": [
      "20000it [00:07, 2722.18it/s]\n",
      "283it [00:00, 2804.98it/s]"
     ]
    },
    {
     "name": "stdout",
     "output_type": "stream",
     "text": [
      "../_processed_data/client_tr_history_2.tsv\n"
     ]
    },
    {
     "name": "stderr",
     "output_type": "stream",
     "text": [
      "20000it [00:07, 2733.54it/s]\n",
      "283it [00:00, 2829.30it/s]"
     ]
    },
    {
     "name": "stdout",
     "output_type": "stream",
     "text": [
      "../_processed_data/client_tr_history_3.tsv\n"
     ]
    },
    {
     "name": "stderr",
     "output_type": "stream",
     "text": [
      "20000it [00:07, 2720.67it/s]\n",
      "253it [00:00, 2511.89it/s]"
     ]
    },
    {
     "name": "stdout",
     "output_type": "stream",
     "text": [
      "../_processed_data/client_tr_history_5.tsv\n"
     ]
    },
    {
     "name": "stderr",
     "output_type": "stream",
     "text": [
      "20000it [00:07, 2706.60it/s]\n",
      "308it [00:00, 3070.61it/s]"
     ]
    },
    {
     "name": "stdout",
     "output_type": "stream",
     "text": [
      "../_processed_data/client_tr_history_7.tsv\n"
     ]
    },
    {
     "name": "stderr",
     "output_type": "stream",
     "text": [
      "20000it [00:07, 2786.54it/s]\n",
      "200it [00:00, 1998.62it/s]"
     ]
    },
    {
     "name": "stdout",
     "output_type": "stream",
     "text": [
      "../_processed_data/client_tr_history_8.tsv\n"
     ]
    },
    {
     "name": "stderr",
     "output_type": "stream",
     "text": [
      "20000it [00:07, 2650.39it/s]\n",
      "303it [00:00, 3022.91it/s]"
     ]
    },
    {
     "name": "stdout",
     "output_type": "stream",
     "text": [
      "../_processed_data/client_tr_history_9.tsv\n"
     ]
    },
    {
     "name": "stderr",
     "output_type": "stream",
     "text": [
      "20000it [00:09, 2166.24it/s]\n",
      "181it [00:00, 1807.90it/s]"
     ]
    },
    {
     "name": "stdout",
     "output_type": "stream",
     "text": [
      "../_processed_data/client_tr_history_1.tsv\n"
     ]
    },
    {
     "name": "stderr",
     "output_type": "stream",
     "text": [
      "20000it [00:11, 1794.38it/s]\n",
      "203it [00:00, 2016.43it/s]"
     ]
    },
    {
     "name": "stdout",
     "output_type": "stream",
     "text": [
      "../_processed_data/client_tr_history_10.tsv\n"
     ]
    },
    {
     "name": "stderr",
     "output_type": "stream",
     "text": [
      "20000it [00:10, 1859.35it/s]\n",
      "195it [00:00, 1940.96it/s]"
     ]
    },
    {
     "name": "stdout",
     "output_type": "stream",
     "text": [
      "../_processed_data/client_tr_history_11.tsv\n"
     ]
    },
    {
     "name": "stderr",
     "output_type": "stream",
     "text": [
      "20000it [00:10, 1842.27it/s]\n",
      "178it [00:00, 1763.76it/s]"
     ]
    },
    {
     "name": "stdout",
     "output_type": "stream",
     "text": [
      "../_processed_data/client_tr_history_12.tsv\n"
     ]
    },
    {
     "name": "stderr",
     "output_type": "stream",
     "text": [
      "20000it [00:07, 2599.64it/s]\n",
      "284it [00:00, 2820.88it/s]"
     ]
    },
    {
     "name": "stdout",
     "output_type": "stream",
     "text": [
      "../_processed_data/client_tr_history_13.tsv\n"
     ]
    },
    {
     "name": "stderr",
     "output_type": "stream",
     "text": [
      "20000it [00:07, 2742.09it/s]\n",
      "329it [00:00, 3283.45it/s]"
     ]
    },
    {
     "name": "stdout",
     "output_type": "stream",
     "text": [
      "../_processed_data/client_tr_history_14.tsv\n"
     ]
    },
    {
     "name": "stderr",
     "output_type": "stream",
     "text": [
      "20000it [00:07, 2771.05it/s]\n",
      "310it [00:00, 3099.00it/s]"
     ]
    },
    {
     "name": "stdout",
     "output_type": "stream",
     "text": [
      "../_processed_data/client_tr_history_17.tsv\n"
     ]
    },
    {
     "name": "stderr",
     "output_type": "stream",
     "text": [
      "20000it [00:07, 2659.96it/s]\n",
      "300it [00:00, 2983.47it/s]"
     ]
    },
    {
     "name": "stdout",
     "output_type": "stream",
     "text": [
      "../_processed_data/client_tr_history_18.tsv\n"
     ]
    },
    {
     "name": "stderr",
     "output_type": "stream",
     "text": [
      "20000it [00:07, 2756.21it/s]\n",
      "291it [00:00, 2908.73it/s]"
     ]
    },
    {
     "name": "stdout",
     "output_type": "stream",
     "text": [
      "../_processed_data/client_tr_history_19.tsv\n"
     ]
    },
    {
     "name": "stderr",
     "output_type": "stream",
     "text": [
      "20000it [00:07, 2759.37it/s]\n",
      "289it [00:00, 2882.77it/s]"
     ]
    },
    {
     "name": "stdout",
     "output_type": "stream",
     "text": [
      "../_processed_data/client_tr_history_2.tsv\n"
     ]
    },
    {
     "name": "stderr",
     "output_type": "stream",
     "text": [
      "20000it [00:07, 2760.62it/s]\n",
      "284it [00:00, 2822.77it/s]"
     ]
    },
    {
     "name": "stdout",
     "output_type": "stream",
     "text": [
      "../_processed_data/client_tr_history_3.tsv\n"
     ]
    },
    {
     "name": "stderr",
     "output_type": "stream",
     "text": [
      "20000it [00:07, 2745.50it/s]\n",
      "253it [00:00, 2490.69it/s]"
     ]
    },
    {
     "name": "stdout",
     "output_type": "stream",
     "text": [
      "../_processed_data/client_tr_history_5.tsv\n"
     ]
    },
    {
     "name": "stderr",
     "output_type": "stream",
     "text": [
      "20000it [00:10, 1975.07it/s]\n",
      "188it [00:00, 1857.69it/s]"
     ]
    },
    {
     "name": "stdout",
     "output_type": "stream",
     "text": [
      "../_processed_data/client_tr_history_7.tsv\n"
     ]
    },
    {
     "name": "stderr",
     "output_type": "stream",
     "text": [
      "20000it [00:10, 1865.45it/s]\n",
      "173it [00:00, 1728.83it/s]"
     ]
    },
    {
     "name": "stdout",
     "output_type": "stream",
     "text": [
      "../_processed_data/client_tr_history_8.tsv\n"
     ]
    },
    {
     "name": "stderr",
     "output_type": "stream",
     "text": [
      "20000it [00:10, 1866.57it/s]\n",
      "208it [00:00, 2079.90it/s]"
     ]
    },
    {
     "name": "stdout",
     "output_type": "stream",
     "text": [
      "../_processed_data/client_tr_history_9.tsv\n"
     ]
    },
    {
     "name": "stderr",
     "output_type": "stream",
     "text": [
      "20000it [00:10, 1910.22it/s]\n",
      "569it [00:00, 2905.62it/s]"
     ]
    },
    {
     "name": "stdout",
     "output_type": "stream",
     "text": [
      "../_processed_data/client_tr_history_1.tsv\n"
     ]
    },
    {
     "name": "stderr",
     "output_type": "stream",
     "text": [
      "20000it [00:09, 2034.73it/s]\n",
      "294it [00:00, 2937.15it/s]"
     ]
    },
    {
     "name": "stdout",
     "output_type": "stream",
     "text": [
      "../_processed_data/client_tr_history_10.tsv\n"
     ]
    },
    {
     "name": "stderr",
     "output_type": "stream",
     "text": [
      "20000it [00:10, 1871.15it/s]\n",
      "134it [00:00, 1300.00it/s]"
     ]
    },
    {
     "name": "stdout",
     "output_type": "stream",
     "text": [
      "../_processed_data/client_tr_history_11.tsv\n"
     ]
    },
    {
     "name": "stderr",
     "output_type": "stream",
     "text": [
      "20000it [00:10, 1962.30it/s]\n",
      "206it [00:00, 2047.32it/s]"
     ]
    },
    {
     "name": "stdout",
     "output_type": "stream",
     "text": [
      "../_processed_data/client_tr_history_12.tsv\n"
     ]
    },
    {
     "name": "stderr",
     "output_type": "stream",
     "text": [
      "20000it [00:10, 1920.27it/s]\n",
      "293it [00:00, 2924.49it/s]"
     ]
    },
    {
     "name": "stdout",
     "output_type": "stream",
     "text": [
      "../_processed_data/client_tr_history_13.tsv\n"
     ]
    },
    {
     "name": "stderr",
     "output_type": "stream",
     "text": [
      "20000it [00:11, 1713.49it/s]\n",
      "217it [00:00, 2163.17it/s]"
     ]
    },
    {
     "name": "stdout",
     "output_type": "stream",
     "text": [
      "../_processed_data/client_tr_history_14.tsv\n"
     ]
    },
    {
     "name": "stderr",
     "output_type": "stream",
     "text": [
      "20000it [00:10, 1886.86it/s]\n",
      "200it [00:00, 1998.61it/s]"
     ]
    },
    {
     "name": "stdout",
     "output_type": "stream",
     "text": [
      "../_processed_data/client_tr_history_17.tsv\n"
     ]
    },
    {
     "name": "stderr",
     "output_type": "stream",
     "text": [
      "20000it [00:10, 1884.37it/s]\n",
      "202it [00:00, 1997.10it/s]"
     ]
    },
    {
     "name": "stdout",
     "output_type": "stream",
     "text": [
      "../_processed_data/client_tr_history_18.tsv\n"
     ]
    },
    {
     "name": "stderr",
     "output_type": "stream",
     "text": [
      "20000it [00:10, 1870.29it/s]\n",
      "206it [00:00, 2056.36it/s]"
     ]
    },
    {
     "name": "stdout",
     "output_type": "stream",
     "text": [
      "../_processed_data/client_tr_history_19.tsv\n"
     ]
    },
    {
     "name": "stderr",
     "output_type": "stream",
     "text": [
      "20000it [00:10, 1867.20it/s]\n",
      "160it [00:00, 1594.83it/s]"
     ]
    },
    {
     "name": "stdout",
     "output_type": "stream",
     "text": [
      "../_processed_data/client_tr_history_2.tsv\n"
     ]
    },
    {
     "name": "stderr",
     "output_type": "stream",
     "text": [
      "20000it [00:11, 1798.89it/s]\n",
      "143it [00:00, 1427.23it/s]"
     ]
    },
    {
     "name": "stdout",
     "output_type": "stream",
     "text": [
      "../_processed_data/client_tr_history_3.tsv\n"
     ]
    },
    {
     "name": "stderr",
     "output_type": "stream",
     "text": [
      "20000it [00:11, 1726.63it/s]\n",
      "183it [00:00, 1827.81it/s]"
     ]
    },
    {
     "name": "stdout",
     "output_type": "stream",
     "text": [
      "../_processed_data/client_tr_history_5.tsv\n"
     ]
    },
    {
     "name": "stderr",
     "output_type": "stream",
     "text": [
      "20000it [00:09, 2138.75it/s]\n",
      "185it [00:00, 1841.65it/s]"
     ]
    },
    {
     "name": "stdout",
     "output_type": "stream",
     "text": [
      "../_processed_data/client_tr_history_7.tsv\n"
     ]
    },
    {
     "name": "stderr",
     "output_type": "stream",
     "text": [
      "20000it [00:12, 1591.77it/s]\n",
      "203it [00:00, 2026.32it/s]"
     ]
    },
    {
     "name": "stdout",
     "output_type": "stream",
     "text": [
      "../_processed_data/client_tr_history_8.tsv\n"
     ]
    },
    {
     "name": "stderr",
     "output_type": "stream",
     "text": [
      "20000it [00:10, 1923.91it/s]\n",
      "132it [00:00, 1317.97it/s]"
     ]
    },
    {
     "name": "stdout",
     "output_type": "stream",
     "text": [
      "../_processed_data/client_tr_history_9.tsv\n"
     ]
    },
    {
     "name": "stderr",
     "output_type": "stream",
     "text": [
      "20000it [00:11, 1769.38it/s]\n",
      "203it [00:00, 2019.52it/s]"
     ]
    },
    {
     "name": "stdout",
     "output_type": "stream",
     "text": [
      "../_processed_data/client_tr_history_1.tsv\n"
     ]
    },
    {
     "name": "stderr",
     "output_type": "stream",
     "text": [
      "20000it [00:09, 2080.05it/s]\n",
      "154it [00:00, 1538.55it/s]"
     ]
    },
    {
     "name": "stdout",
     "output_type": "stream",
     "text": [
      "../_processed_data/client_tr_history_10.tsv\n"
     ]
    },
    {
     "name": "stderr",
     "output_type": "stream",
     "text": [
      "20000it [00:13, 1470.85it/s]\n",
      "141it [00:00, 1388.36it/s]"
     ]
    },
    {
     "name": "stdout",
     "output_type": "stream",
     "text": [
      "../_processed_data/client_tr_history_11.tsv\n"
     ]
    },
    {
     "name": "stderr",
     "output_type": "stream",
     "text": [
      "20000it [00:08, 2292.95it/s]\n",
      "274it [00:00, 2737.00it/s]"
     ]
    },
    {
     "name": "stdout",
     "output_type": "stream",
     "text": [
      "../_processed_data/client_tr_history_12.tsv\n"
     ]
    },
    {
     "name": "stderr",
     "output_type": "stream",
     "text": [
      "20000it [00:10, 1885.26it/s]\n",
      "186it [00:00, 1853.18it/s]"
     ]
    },
    {
     "name": "stdout",
     "output_type": "stream",
     "text": [
      "../_processed_data/client_tr_history_13.tsv\n"
     ]
    },
    {
     "name": "stderr",
     "output_type": "stream",
     "text": [
      "20000it [00:10, 1852.86it/s]\n",
      "173it [00:00, 1729.49it/s]"
     ]
    },
    {
     "name": "stdout",
     "output_type": "stream",
     "text": [
      "../_processed_data/client_tr_history_14.tsv\n"
     ]
    },
    {
     "name": "stderr",
     "output_type": "stream",
     "text": [
      "20000it [00:11, 1784.10it/s]\n",
      "174it [00:00, 1719.44it/s]"
     ]
    },
    {
     "name": "stdout",
     "output_type": "stream",
     "text": [
      "../_processed_data/client_tr_history_17.tsv\n"
     ]
    },
    {
     "name": "stderr",
     "output_type": "stream",
     "text": [
      "20000it [00:10, 1980.58it/s]\n",
      "300it [00:00, 2992.89it/s]"
     ]
    },
    {
     "name": "stdout",
     "output_type": "stream",
     "text": [
      "../_processed_data/client_tr_history_18.tsv\n"
     ]
    },
    {
     "name": "stderr",
     "output_type": "stream",
     "text": [
      "20000it [00:10, 1907.89it/s]\n",
      "140it [00:00, 1394.22it/s]"
     ]
    },
    {
     "name": "stdout",
     "output_type": "stream",
     "text": [
      "../_processed_data/client_tr_history_19.tsv\n"
     ]
    },
    {
     "name": "stderr",
     "output_type": "stream",
     "text": [
      "20000it [00:11, 1727.53it/s]\n",
      "147it [00:00, 1459.86it/s]"
     ]
    },
    {
     "name": "stdout",
     "output_type": "stream",
     "text": [
      "../_processed_data/client_tr_history_2.tsv\n"
     ]
    },
    {
     "name": "stderr",
     "output_type": "stream",
     "text": [
      "20000it [00:10, 1843.44it/s]\n",
      "277it [00:00, 2760.37it/s]"
     ]
    },
    {
     "name": "stdout",
     "output_type": "stream",
     "text": [
      "../_processed_data/client_tr_history_3.tsv\n"
     ]
    },
    {
     "name": "stderr",
     "output_type": "stream",
     "text": [
      "20000it [00:11, 1773.78it/s]\n",
      "115it [00:00, 1148.47it/s]"
     ]
    },
    {
     "name": "stdout",
     "output_type": "stream",
     "text": [
      "../_processed_data/client_tr_history_5.tsv\n"
     ]
    },
    {
     "name": "stderr",
     "output_type": "stream",
     "text": [
      "20000it [00:12, 1641.11it/s]\n",
      "163it [00:00, 1626.70it/s]"
     ]
    },
    {
     "name": "stdout",
     "output_type": "stream",
     "text": [
      "../_processed_data/client_tr_history_7.tsv\n"
     ]
    },
    {
     "name": "stderr",
     "output_type": "stream",
     "text": [
      "20000it [00:11, 1774.56it/s]\n",
      "195it [00:00, 1945.65it/s]"
     ]
    },
    {
     "name": "stdout",
     "output_type": "stream",
     "text": [
      "../_processed_data/client_tr_history_8.tsv\n"
     ]
    },
    {
     "name": "stderr",
     "output_type": "stream",
     "text": [
      "20000it [00:11, 1802.20it/s]\n",
      "207it [00:00, 2068.14it/s]"
     ]
    },
    {
     "name": "stdout",
     "output_type": "stream",
     "text": [
      "../_processed_data/client_tr_history_9.tsv\n"
     ]
    },
    {
     "name": "stderr",
     "output_type": "stream",
     "text": [
      "20000it [00:11, 1798.92it/s]\n",
      "370it [00:00, 1814.46it/s]"
     ]
    },
    {
     "name": "stdout",
     "output_type": "stream",
     "text": [
      "../_processed_data/client_tr_history_1.tsv\n"
     ]
    },
    {
     "name": "stderr",
     "output_type": "stream",
     "text": [
      "20000it [00:11, 1761.02it/s]\n",
      "234it [00:00, 2337.87it/s]"
     ]
    },
    {
     "name": "stdout",
     "output_type": "stream",
     "text": [
      "../_processed_data/client_tr_history_10.tsv\n"
     ]
    },
    {
     "name": "stderr",
     "output_type": "stream",
     "text": [
      "20000it [00:14, 1367.25it/s]\n",
      "134it [00:00, 1326.80it/s]"
     ]
    },
    {
     "name": "stdout",
     "output_type": "stream",
     "text": [
      "../_processed_data/client_tr_history_11.tsv\n"
     ]
    },
    {
     "name": "stderr",
     "output_type": "stream",
     "text": [
      "20000it [00:12, 1561.86it/s]\n",
      "245it [00:00, 2418.49it/s]"
     ]
    },
    {
     "name": "stdout",
     "output_type": "stream",
     "text": [
      "../_processed_data/client_tr_history_12.tsv\n"
     ]
    },
    {
     "name": "stderr",
     "output_type": "stream",
     "text": [
      "20000it [00:15, 1291.74it/s]\n",
      "150it [00:00, 1497.52it/s]"
     ]
    },
    {
     "name": "stdout",
     "output_type": "stream",
     "text": [
      "../_processed_data/client_tr_history_13.tsv\n"
     ]
    },
    {
     "name": "stderr",
     "output_type": "stream",
     "text": [
      "20000it [00:12, 1562.42it/s]\n",
      "122it [00:00, 1203.83it/s]"
     ]
    },
    {
     "name": "stdout",
     "output_type": "stream",
     "text": [
      "../_processed_data/client_tr_history_14.tsv\n"
     ]
    },
    {
     "name": "stderr",
     "output_type": "stream",
     "text": [
      "20000it [00:17, 1173.93it/s]\n",
      "140it [00:00, 1392.17it/s]"
     ]
    },
    {
     "name": "stdout",
     "output_type": "stream",
     "text": [
      "../_processed_data/client_tr_history_17.tsv\n"
     ]
    },
    {
     "name": "stderr",
     "output_type": "stream",
     "text": [
      "20000it [00:12, 1580.44it/s]\n",
      "139it [00:00, 1389.32it/s]"
     ]
    },
    {
     "name": "stdout",
     "output_type": "stream",
     "text": [
      "../_processed_data/client_tr_history_18.tsv\n"
     ]
    },
    {
     "name": "stderr",
     "output_type": "stream",
     "text": [
      "20000it [00:14, 1383.44it/s]\n",
      "105it [00:00, 1048.82it/s]"
     ]
    },
    {
     "name": "stdout",
     "output_type": "stream",
     "text": [
      "../_processed_data/client_tr_history_19.tsv\n"
     ]
    },
    {
     "name": "stderr",
     "output_type": "stream",
     "text": [
      "20000it [00:08, 2306.54it/s]\n",
      "281it [00:00, 2800.39it/s]"
     ]
    },
    {
     "name": "stdout",
     "output_type": "stream",
     "text": [
      "../_processed_data/client_tr_history_2.tsv\n"
     ]
    },
    {
     "name": "stderr",
     "output_type": "stream",
     "text": [
      "20000it [00:11, 1779.83it/s]\n",
      "172it [00:00, 1697.83it/s]"
     ]
    },
    {
     "name": "stdout",
     "output_type": "stream",
     "text": [
      "../_processed_data/client_tr_history_3.tsv\n"
     ]
    },
    {
     "name": "stderr",
     "output_type": "stream",
     "text": [
      "20000it [00:11, 1763.22it/s]\n",
      "172it [00:00, 1716.87it/s]"
     ]
    },
    {
     "name": "stdout",
     "output_type": "stream",
     "text": [
      "../_processed_data/client_tr_history_5.tsv\n"
     ]
    },
    {
     "name": "stderr",
     "output_type": "stream",
     "text": [
      "20000it [00:11, 1803.19it/s]\n",
      "160it [00:00, 1594.44it/s]"
     ]
    },
    {
     "name": "stdout",
     "output_type": "stream",
     "text": [
      "../_processed_data/client_tr_history_7.tsv\n"
     ]
    },
    {
     "name": "stderr",
     "output_type": "stream",
     "text": [
      "20000it [00:10, 1994.63it/s]\n",
      "117it [00:00, 1162.30it/s]"
     ]
    },
    {
     "name": "stdout",
     "output_type": "stream",
     "text": [
      "../_processed_data/client_tr_history_8.tsv\n"
     ]
    },
    {
     "name": "stderr",
     "output_type": "stream",
     "text": [
      "20000it [00:12, 1623.18it/s]\n",
      "261it [00:00, 2603.35it/s]"
     ]
    },
    {
     "name": "stdout",
     "output_type": "stream",
     "text": [
      "../_processed_data/client_tr_history_9.tsv\n"
     ]
    },
    {
     "name": "stderr",
     "output_type": "stream",
     "text": [
      "20000it [00:09, 2005.64it/s]"
     ]
    },
    {
     "name": "stdout",
     "output_type": "stream",
     "text": [
      "CPU times: user 18min 10s, sys: 9.69 s, total: 18min 20s\n",
      "Wall time: 14min 19s\n"
     ]
    },
    {
     "name": "stderr",
     "output_type": "stream",
     "text": [
      "\n"
     ]
    }
   ],
   "source": [
    "%%time\n",
    "transaction_level = ClientDocCorpus(train_chunks, valid_time)\n",
    "model2 = gensim.models.Word2Vec(sentences=transaction_level, seed=42, workers=8, iter=5,\n",
    "                                size=50, window=10, min_count=2)"
   ]
  },
  {
   "cell_type": "code",
   "execution_count": 7,
   "metadata": {
    "ExecuteTime": {
     "end_time": "2020-01-26T21:11:06.588756Z",
     "start_time": "2020-01-26T21:11:06.384950Z"
    }
   },
   "outputs": [],
   "source": [
    "model2.save('../_model_files/w2v_01_26_2.wv')"
   ]
  }
 ],
 "metadata": {
  "kernelspec": {
   "display_name": "Python 3",
   "language": "python",
   "name": "python3"
  },
  "language_info": {
   "codemirror_mode": {
    "name": "ipython",
    "version": 3
   },
   "file_extension": ".py",
   "mimetype": "text/x-python",
   "name": "python",
   "nbconvert_exporter": "python",
   "pygments_lexer": "ipython3",
   "version": "3.6.9"
  },
  "varInspector": {
   "cols": {
    "lenName": 16,
    "lenType": 16,
    "lenVar": 40
   },
   "kernels_config": {
    "python": {
     "delete_cmd_postfix": "",
     "delete_cmd_prefix": "del ",
     "library": "var_list.py",
     "varRefreshCmd": "print(var_dic_list())"
    },
    "r": {
     "delete_cmd_postfix": ") ",
     "delete_cmd_prefix": "rm(",
     "library": "var_list.r",
     "varRefreshCmd": "cat(var_dic_list()) "
    }
   },
   "types_to_exclude": [
    "module",
    "function",
    "builtin_function_or_method",
    "instance",
    "_Feature"
   ],
   "window_display": false
  }
 },
 "nbformat": 4,
 "nbformat_minor": 2
}
